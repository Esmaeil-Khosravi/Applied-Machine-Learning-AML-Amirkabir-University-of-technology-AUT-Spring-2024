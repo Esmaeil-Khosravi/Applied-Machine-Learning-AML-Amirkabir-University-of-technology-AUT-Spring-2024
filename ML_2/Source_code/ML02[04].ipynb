{
 "cells": [
  {
   "cell_type": "markdown",
   "id": "a3549481-0850-4e52-8469-30a5fa40dca7",
   "metadata": {},
   "source": [
    "## a and b. "
   ]
  },
  {
   "cell_type": "markdown",
   "id": "950ce7a2-38f1-453b-aabe-246f40652d3b",
   "metadata": {},
   "source": [
    "## Importing needed libraries"
   ]
  },
  {
   "cell_type": "code",
   "execution_count": 24,
   "id": "483f8bb1-86eb-4d70-bad8-ef851008c83b",
   "metadata": {},
   "outputs": [],
   "source": [
    "import os\n",
    "import cv2\n",
    "import numpy as np\n",
    "import matplotlib.pyplot as plt\n",
    "from glob import glob"
   ]
  },
  {
   "cell_type": "markdown",
   "id": "c38c7188-f773-4b3c-a654-859a31c1fc56",
   "metadata": {},
   "source": [
    "## Loading the dataset and preprocessing it "
   ]
  },
  {
   "cell_type": "code",
   "execution_count": 1,
   "id": "0607cbcd-7649-41e1-a093-868a819b1536",
   "metadata": {},
   "outputs": [],
   "source": [
    "train_folder = \"train\"\n",
    "test_folder = \"test1\""
   ]
  },
  {
   "cell_type": "code",
   "execution_count": 3,
   "id": "d3b1a8c1-8a32-422e-84c3-75f7c3f3fa2c",
   "metadata": {},
   "outputs": [],
   "source": [
    "def load_images(folder_path, img_size=(64, 64)):\n",
    "    images = []\n",
    "    labels = []\n",
    "    for file_path in glob(os.path.join(folder_path, '*.jpg')):\n",
    "\n",
    "        img = cv2.imread(file_path, cv2.IMREAD_GRAYSCALE)\n",
    "\n",
    "        img = cv2.resize(img, img_size)\n",
    "\n",
    "        img = img.astype('float32') / 255.0\n",
    "        \n",
    "        if 'dog' in file_path:\n",
    "            label = 1\n",
    "        elif 'cat' in file_path:\n",
    "            label = 0\n",
    "        else:\n",
    "            label = None\n",
    "        images.append(img)\n",
    "        labels.append(label)\n",
    "\n",
    "    return np.array(images), np.array(labels)"
   ]
  },
  {
   "cell_type": "code",
   "execution_count": 11,
   "id": "e8e1aa69-d64b-4145-99c1-675bd89c2985",
   "metadata": {},
   "outputs": [],
   "source": [
    "train_images, train_labels = load_images(train_folder)\n",
    "test_images, _ = load_images(test_folder)"
   ]
  },
  {
   "cell_type": "code",
   "execution_count": 12,
   "id": "1145d846-d943-4794-80fb-aeeaa0a47335",
   "metadata": {},
   "outputs": [
    {
     "name": "stdout",
     "output_type": "stream",
     "text": [
      "Train Images Shape: (25000, 64, 64)\n",
      "Train Labels Shape: (25000,)\n",
      "Test Images Shape: (12500, 64, 64)\n"
     ]
    }
   ],
   "source": [
    "print(\"Train Images Shape:\", train_images.shape)\n",
    "print(\"Train Labels Shape:\", train_labels.shape)\n",
    "print(\"Test Images Shape:\", test_images.shape)"
   ]
  },
  {
   "cell_type": "markdown",
   "id": "6ba99aeb-c5bd-4a9c-b75d-78937a74c8b4",
   "metadata": {},
   "source": [
    "### the above shapes show we have done it correctly!"
   ]
  },
  {
   "cell_type": "markdown",
   "id": "7108de80-8ee6-42db-9395-fa5494512604",
   "metadata": {},
   "source": [
    "## c."
   ]
  },
  {
   "cell_type": "markdown",
   "id": "c6098560-b5b1-4bed-970d-091260574513",
   "metadata": {},
   "source": [
    "### splitting the dataset into train and test set"
   ]
  },
  {
   "cell_type": "code",
   "execution_count": 17,
   "id": "00db8b91-8ff9-4d57-b94d-2a7a77940d73",
   "metadata": {},
   "outputs": [],
   "source": [
    "from sklearn.model_selection import train_test_split\n",
    "X_train, X_test, y_train, y_test = train_test_split(train_images, train_labels, test_size=0.2, random_state=42)"
   ]
  },
  {
   "cell_type": "code",
   "execution_count": 20,
   "id": "65a21185-2e72-41cf-9062-2e825557d18d",
   "metadata": {},
   "outputs": [
    {
     "name": "stdout",
     "output_type": "stream",
     "text": [
      "Train Images Shape: (20000, 64, 64)\n",
      "Train Labels Shape: (20000,)\n",
      "Test Images Shape: (5000, 64, 64)\n",
      "Test Images Shape: (5000,)\n"
     ]
    }
   ],
   "source": [
    "print(\"Train Images Shape:\", X_train.shape)\n",
    "print(\"Train Labels Shape:\", y_train.shape)\n",
    "print(\"Test Images Shape:\", X_test.shape)\n",
    "print(\"Test Images Shape:\", y_test.shape)"
   ]
  },
  {
   "cell_type": "markdown",
   "id": "05d3a2c2-e837-4a34-9691-ac327993e1f6",
   "metadata": {},
   "source": [
    "## d."
   ]
  },
  {
   "cell_type": "markdown",
   "id": "291b6f69-ba34-4502-88a0-100b4543c5ce",
   "metadata": {},
   "source": [
    "### training a KNN model "
   ]
  },
  {
   "cell_type": "code",
   "execution_count": 18,
   "id": "d6ab5e81-a609-42dd-b84b-cba88e0a174d",
   "metadata": {},
   "outputs": [],
   "source": [
    "from sklearn.neighbors import KNeighborsClassifier\n",
    "from sklearn.metrics import classification_report\n",
    "knn_classifier = KNeighborsClassifier(n_neighbors=5)"
   ]
  },
  {
   "cell_type": "code",
   "execution_count": 22,
   "id": "071df100-b30b-41ef-aad8-80239529fe54",
   "metadata": {},
   "outputs": [],
   "source": [
    "knn_classifier.fit(X_train.reshape(len(X_train), -1), y_train)\n",
    "test_predictions = knn_classifier.predict(X_test.reshape(len(X_test), -1))"
   ]
  },
  {
   "cell_type": "markdown",
   "id": "d115cee9-d886-4b9b-9574-c0dfc3611730",
   "metadata": {},
   "source": [
    "### report "
   ]
  },
  {
   "cell_type": "code",
   "execution_count": 28,
   "id": "2a73dd19-1c9a-4201-8b17-5c03e8bba68c",
   "metadata": {},
   "outputs": [
    {
     "name": "stdout",
     "output_type": "stream",
     "text": [
      "Classification Report:\n",
      "              precision    recall  f1-score   support\n",
      "\n",
      "         Cat       0.55      0.72      0.62      2515\n",
      "         Dog       0.59      0.40      0.47      2485\n",
      "\n",
      "    accuracy                           0.56      5000\n",
      "   macro avg       0.57      0.56      0.55      5000\n",
      "weighted avg       0.57      0.56      0.55      5000\n",
      "\n"
     ]
    }
   ],
   "source": [
    "report = classification_report(y_test, test_predictions, target_names= ['Cat', 'Dog'])\n",
    "print(\"Classification Report:\")\n",
    "print(report)"
   ]
  },
  {
   "cell_type": "markdown",
   "id": "13d334e8-f943-4c6f-8c53-dca3a5887cf7",
   "metadata": {},
   "source": [
    "## e. "
   ]
  },
  {
   "cell_type": "markdown",
   "id": "784e42fd-b4bb-489f-838c-ad6553894386",
   "metadata": {},
   "source": [
    "## evaluation "
   ]
  },
  {
   "cell_type": "code",
   "execution_count": 30,
   "id": "770b00e5-1141-48fb-b161-7725a9029a0d",
   "metadata": {},
   "outputs": [],
   "source": [
    "from sklearn.model_selection import cross_validate\n",
    "from sklearn.metrics import make_scorer, accuracy_score, precision_score, recall_score, f1_score"
   ]
  },
  {
   "cell_type": "markdown",
   "id": "bae0d1a0-dee0-4773-9b78-01f1aa468e87",
   "metadata": {},
   "source": [
    "### evaluating the knn model in terms of different metrics "
   ]
  },
  {
   "cell_type": "code",
   "execution_count": 31,
   "id": "0ae9e427-6849-4e96-9c0d-83fb0631f810",
   "metadata": {},
   "outputs": [],
   "source": [
    "scoring = {\n",
    "    'accuracy': make_scorer(accuracy_score),\n",
    "    'precision': make_scorer(precision_score, average='macro'),\n",
    "    'recall': make_scorer(recall_score, average='macro'),\n",
    "    'f1_score': make_scorer(f1_score, average='macro')\n",
    "}\n",
    "\n",
    "cv_results = cross_validate(knn_classifier, train_images.reshape(len(train_images), -1), train_labels, cv=10, scoring=scoring)"
   ]
  },
  {
   "cell_type": "code",
   "execution_count": 34,
   "id": "3e28ee00-fbff-475a-8424-5ff1ab9e96b7",
   "metadata": {},
   "outputs": [],
   "source": [
    "avg_accuracy = np.mean(cv_results['test_accuracy'])\n",
    "std_accuracy = np.std(cv_results['test_accuracy'])\n",
    "\n",
    "avg_precision = np.mean(cv_results['test_precision'])\n",
    "std_precision = np.std(cv_results['test_precision'])\n",
    "\n",
    "avg_recall = np.mean(cv_results['test_recall'])\n",
    "std_recall = np.std(cv_results['test_recall'])\n",
    "\n",
    "avg_f1_score = np.mean(cv_results['test_f1_score'])\n",
    "std_f1_score = np.std(cv_results['test_f1_score'])"
   ]
  },
  {
   "cell_type": "code",
   "execution_count": 33,
   "id": "93c787e9-297b-4ee4-acc8-52bd187d9696",
   "metadata": {},
   "outputs": [
    {
     "name": "stdout",
     "output_type": "stream",
     "text": [
      "Average Accuracy: 0.55832 ± 0.009594665184361565\n",
      "Average Precision: 0.5670058647050586 ± 0.010783270604225176\n",
      "Average Recall: 0.55832 ± 0.00959466518436156\n",
      "Average F1-score: 0.5434821376191263 ± 0.010408495244943944\n"
     ]
    }
   ],
   "source": [
    "print(\"Average Accuracy:\", avg_accuracy, \"±\", std_accuracy)\n",
    "print(\"Average Precision:\", avg_precision, \"±\", std_precision)\n",
    "print(\"Average Recall:\", avg_recall, \"±\", std_recall)\n",
    "print(\"Average F1-score:\", avg_f1_score, \"±\", std_f1_score)"
   ]
  },
  {
   "cell_type": "markdown",
   "id": "48d53548-50f4-4b6e-b6ff-110435579263",
   "metadata": {},
   "source": [
    "## f."
   ]
  },
  {
   "cell_type": "markdown",
   "id": "5f8c039e-3dae-4c50-8bdb-ceb881c0f407",
   "metadata": {},
   "source": [
    "### in terms of the above resutl, we come to conclusion that KNN classifer is not suitable for image classificatio tasks, since it has poor performance in terms of above metrics"
   ]
  },
  {
   "cell_type": "markdown",
   "id": "5f69236f-b65c-4250-96b8-566a1c03827c",
   "metadata": {
    "jp-MarkdownHeadingCollapsed": true
   },
   "source": [
    "### Average Accuracy = 55 %, it means on average, the classifier  predicts the class of around 55.83% of the test instances correctly. Not a good accuracy!"
   ]
  },
  {
   "cell_type": "markdown",
   "id": "dc7a780a-d0de-48fa-a12f-c66a5b6cb58f",
   "metadata": {},
   "source": [
    "### Average Precision = 56 % , it means Precision measures the proportion of true positive predictions among all positive predictions made by the classifier. A higher precision indicates fewer false positive predictions.\n"
   ]
  },
  {
   "cell_type": "markdown",
   "id": "a0d0bb68-197f-43b6-a9f6-748f130f7f1c",
   "metadata": {},
   "source": [
    "### Average Recall = 55 % it means  Recall measures the proportion of true positive predictions among all actual positive instances in the dataset"
   ]
  },
  {
   "cell_type": "markdown",
   "id": "3a4dfbf1-e8dc-46d9-86b0-b562b4fbd180",
   "metadata": {},
   "source": [
    "### Average F1-score = 54 % it means The average F1-score of the classifier is approximately 54.35%"
   ]
  },
  {
   "cell_type": "markdown",
   "id": "ad4f28fb-c82d-41ca-a569-03dbecf68d04",
   "metadata": {},
   "source": [
    "### to conclude, knn is not suitable for image classification tasks "
   ]
  },
  {
   "cell_type": "code",
   "execution_count": null,
   "id": "391205ff-5f94-4ab2-915e-a4379bdbd543",
   "metadata": {},
   "outputs": [],
   "source": []
  }
 ],
 "metadata": {
  "kernelspec": {
   "display_name": "Python 3 (ipykernel)",
   "language": "python",
   "name": "python3"
  },
  "language_info": {
   "codemirror_mode": {
    "name": "ipython",
    "version": 3
   },
   "file_extension": ".py",
   "mimetype": "text/x-python",
   "name": "python",
   "nbconvert_exporter": "python",
   "pygments_lexer": "ipython3",
   "version": "3.11.7"
  },
  "widgets": {
   "application/vnd.jupyter.widget-state+json": {
    "state": {},
    "version_major": 2,
    "version_minor": 0
   }
  }
 },
 "nbformat": 4,
 "nbformat_minor": 5
}
