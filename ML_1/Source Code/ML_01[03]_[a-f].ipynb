{
  "cells": [
    {
      "cell_type": "markdown",
      "metadata": {
        "id": "-1S6nVqYAvLz"
      },
      "source": [
        "\n",
        "\n",
        "---\n",
        "\n"
      ]
    },
    {
      "cell_type": "markdown",
      "metadata": {
        "id": "EehchjMFDPWJ"
      },
      "source": [
        "### First of all, it is better for us to import all libraries we might need to use possibly!"
      ]
    },
    {
      "cell_type": "code",
      "execution_count": null,
      "metadata": {
        "id": "AsPcUba2DOQF"
      },
      "outputs": [],
      "source": [
        "import pandas as pd\n",
        "import numpy as np\n",
        "import seaborn as sns\n",
        "import matplotlib.pyplot as plt\n",
        "from sklearn.feature_extraction.text import CountVectorizer"
      ]
    },
    {
      "cell_type": "code",
      "execution_count": null,
      "metadata": {
        "colab": {
          "base_uri": "https://localhost:8080/"
        },
        "id": "sRIHWQ5dPL73",
        "outputId": "8b6139d1-8fa1-40ab-df0e-41841ea19e15"
      },
      "outputs": [
        {
          "output_type": "stream",
          "name": "stdout",
          "text": [
            "Requirement already satisfied: hazm in /usr/local/lib/python3.10/dist-packages (0.10.0)\n",
            "Requirement already satisfied: fasttext-wheel<0.10.0,>=0.9.2 in /usr/local/lib/python3.10/dist-packages (from hazm) (0.9.2)\n",
            "Requirement already satisfied: flashtext<3.0,>=2.7 in /usr/local/lib/python3.10/dist-packages (from hazm) (2.7)\n",
            "Requirement already satisfied: gensim<5.0.0,>=4.3.1 in /usr/local/lib/python3.10/dist-packages (from hazm) (4.3.2)\n",
            "Requirement already satisfied: nltk<4.0.0,>=3.8.1 in /usr/local/lib/python3.10/dist-packages (from hazm) (3.8.1)\n",
            "Requirement already satisfied: numpy==1.24.3 in /usr/local/lib/python3.10/dist-packages (from hazm) (1.24.3)\n",
            "Requirement already satisfied: python-crfsuite<0.10.0,>=0.9.9 in /usr/local/lib/python3.10/dist-packages (from hazm) (0.9.10)\n",
            "Requirement already satisfied: scikit-learn<2.0.0,>=1.2.2 in /usr/local/lib/python3.10/dist-packages (from hazm) (1.2.2)\n",
            "Requirement already satisfied: pybind11>=2.2 in /usr/local/lib/python3.10/dist-packages (from fasttext-wheel<0.10.0,>=0.9.2->hazm) (2.12.0)\n",
            "Requirement already satisfied: setuptools>=0.7.0 in /usr/local/lib/python3.10/dist-packages (from fasttext-wheel<0.10.0,>=0.9.2->hazm) (67.7.2)\n",
            "Requirement already satisfied: scipy>=1.7.0 in /usr/local/lib/python3.10/dist-packages (from gensim<5.0.0,>=4.3.1->hazm) (1.11.4)\n",
            "Requirement already satisfied: smart-open>=1.8.1 in /usr/local/lib/python3.10/dist-packages (from gensim<5.0.0,>=4.3.1->hazm) (6.4.0)\n",
            "Requirement already satisfied: click in /usr/local/lib/python3.10/dist-packages (from nltk<4.0.0,>=3.8.1->hazm) (8.1.7)\n",
            "Requirement already satisfied: joblib in /usr/local/lib/python3.10/dist-packages (from nltk<4.0.0,>=3.8.1->hazm) (1.3.2)\n",
            "Requirement already satisfied: regex>=2021.8.3 in /usr/local/lib/python3.10/dist-packages (from nltk<4.0.0,>=3.8.1->hazm) (2023.12.25)\n",
            "Requirement already satisfied: tqdm in /usr/local/lib/python3.10/dist-packages (from nltk<4.0.0,>=3.8.1->hazm) (4.66.2)\n",
            "Requirement already satisfied: threadpoolctl>=2.0.0 in /usr/local/lib/python3.10/dist-packages (from scikit-learn<2.0.0,>=1.2.2->hazm) (3.4.0)\n"
          ]
        }
      ],
      "source": [
        "pip install hazm"
      ]
    },
    {
      "cell_type": "markdown",
      "metadata": {
        "id": "uJCCJcvfD_uH"
      },
      "source": [
        "###Then we need to download the dataset from the given link through the command below:"
      ]
    },
    {
      "cell_type": "markdown",
      "metadata": {
        "id": "U4PhpWGDD4Z5"
      },
      "source": []
    },
    {
      "cell_type": "code",
      "execution_count": null,
      "metadata": {
        "colab": {
          "base_uri": "https://localhost:8080/"
        },
        "id": "Jwj6OSW4DIlK",
        "outputId": "80dd0890-7581-47ee-c588-9be65f1f556a"
      },
      "outputs": [
        {
          "output_type": "stream",
          "name": "stdout",
          "text": [
            "/usr/local/lib/python3.10/dist-packages/gdown/cli.py:138: FutureWarning: Option `--id` was deprecated in version 4.3.1 and will be removed in 5.0. You don't need to pass it anymore to use a file ID.\n",
            "  warnings.warn(\n",
            "Downloading...\n",
            "From (original): https://drive.google.com/uc?id=1D3yt99D0GcCRCbdKbUQGxbqjkeh91hTg\n",
            "From (redirected): https://drive.google.com/uc?id=1D3yt99D0GcCRCbdKbUQGxbqjkeh91hTg&confirm=t&uuid=285ac03e-aff1-4339-9e05-ffe69c589410\n",
            "To: /content/hamshahri.rar\n",
            "100% 873M/873M [00:07<00:00, 117MB/s]\n"
          ]
        }
      ],
      "source": [
        "!gdown  --id '1D3yt99D0GcCRCbdKbUQGxbqjkeh91hTg'"
      ]
    },
    {
      "cell_type": "markdown",
      "metadata": {
        "id": "RPfBCkMmBDVi"
      },
      "source": [
        "###And then we need to extract it as follows:"
      ]
    },
    {
      "cell_type": "code",
      "execution_count": null,
      "metadata": {
        "colab": {
          "base_uri": "https://localhost:8080/"
        },
        "id": "P43IuYB8ESGg",
        "outputId": "b031b97e-63d4-4ae9-fd0a-722225a6bc39"
      },
      "outputs": [
        {
          "output_type": "stream",
          "name": "stdout",
          "text": [
            "\n",
            "UNRAR 6.11 beta 1 freeware      Copyright (c) 1993-2022 Alexander Roshal\n",
            "\n",
            "\n",
            "Extracting from hamshahri.rar\n",
            "\n",
            "\n",
            "Would you like to replace the existing file ar.JPG\n",
            "  1114 bytes, modified on 2008-05-04 12:51\n",
            "with a new one\n",
            "  1114 bytes, modified on 2008-05-04 12:51\n",
            "\n",
            "[Y]es, [N]o, [A]ll, n[E]ver, [R]ename, [Q]uit Y\n",
            "\n",
            "Extracting  ar.JPG                                                       \b\b\b\b  0%\b\b\b\b\b  OK \n",
            "\n",
            "Would you like to replace the existing file ar.psd\n",
            " 30316 bytes, modified on 2008-05-04 12:51\n",
            "with a new one\n",
            " 30316 bytes, modified on 2008-05-04 12:51\n",
            "\n",
            "[Y]es, [N]o, [A]ll, n[E]ver, [R]ename, [Q]uit \n",
            "User break\n",
            "\n",
            "User break\n"
          ]
        }
      ],
      "source": [
        "!unrar e hamshahri.rar"
      ]
    },
    {
      "cell_type": "code",
      "execution_count": null,
      "metadata": {
        "colab": {
          "base_uri": "https://localhost:8080/"
        },
        "id": "OqAj5DVYEvlH",
        "outputId": "dd18dd48-a9a2-44ff-d718-9e43b70658b6"
      },
      "outputs": [
        {
          "output_type": "stream",
          "name": "stdout",
          "text": [
            "Archive:  /content/Hamshahri-Corpus.zip\n",
            "replace Hamshahri-Corpus.txt? [y]es, [n]o, [A]ll, [N]one, [r]ename: "
          ]
        }
      ],
      "source": [
        "! unzip /content/Hamshahri-Corpus.zip"
      ]
    },
    {
      "cell_type": "markdown",
      "metadata": {
        "id": "PRKlV5XDBQP3"
      },
      "source": [
        "### our target file is Hamshahri-Corpus.txt, we make sure we have the right file by checking frist lines of it  "
      ]
    },
    {
      "cell_type": "code",
      "execution_count": null,
      "metadata": {
        "colab": {
          "base_uri": "https://localhost:8080/"
        },
        "id": "4_FZnsjsKQgR",
        "outputId": "1b4b520b-a2b1-42d0-b8dc-cded93833f1d"
      },
      "outputs": [
        {
          "name": "stdout",
          "output_type": "stream",
          "text": [
            ".DID\t1S1\r\n",
            ".Date\t75\\04\\02\r\n",
            ".Cat\tadabh\r\n",
            "جاودانگي در زندگي گروهي از طريق هنر \n",
            "نگاهي به نمايشگاه آثار هنري احمد طباطبايي \n",
            "موضوع آثار طباطبايي مورچگان هستند ولي در باطن چنين ظاهري، اين \n",
            "انسانهاهستند كه در هيبتي حشره گونه در تابلوهاي نقاشي نمايشگر \n",
            "گوشه هايي از زندگي خود هستند. \n",
            "مورچه اي را ديده ايم كه بار سنگين خودرا به دوش مي كشد و در بين راه \n",
            "خسته مي شود يا در نتيجه پيش آمدن يك حادثه اتفاقي بار از دستش رها \n",
            "شده و براي گريز از خطر آن را مي گذارد و فرار مي كند. اما ساعتي بعد \n",
            "به همان نقطه برمي گردد و بار را دوباره به دوش كشيده نفس زنان و \n",
            "عرق ريزان آن را به منزل او مي رساند مي داند كه اگر در ميان راه از \n",
            "بين رفت، يك مورچه ديگر با همان استعداد غريزه عملي را كه او شروع \n",
            "كرده به پايان مي رساند. پس او مي داند كه بعد از خودش نسل آينده اي \n",
            "وجود دارد كه بايد از مزاياي آن استفاده نمايد. چه داستان درازي، \n",
            "انتها و پاياني هم ميليونها ندارد سال گذشته، ميلياردها سال ديگر \n",
            "خواهد گذشت وهمين برنامه ميليونها بار ديگر تجديد مي شود. پس بايد گفت \n",
            "سير حيات و تكامل پايان ناپذير است. اسرار جهان پاياني ندارد. پس \n",
            "اگر بخواهيم به يك چيز پايان ناپذير برسيم چون انتهايي در بين نيست، \n",
            "به جايي نمي رسيم. (از كتاب مورچگان، نوشته موريس مترلينگ )\n",
            "مورچگان در تابلوهاي نقاشي احمد طباطبايي جايگاه ويژه اي دارند. در \n",
            "نمايشگاهي كه از آثار اين هنرمند (اول تا 23 خرداد ) در نگارخانه برگ \n",
            "برپا شد 36 اثر با اين موضوع به نمايش عمومي درآمد. طباطبايي در \n",
            "مدت 18 سالي كه به نقاشي مي پردازد همواره بر روي موضوع مورچگان كار \n",
            "كرده است. وي درباره علت انتخاب چنين سوژه اي مي گويد: در يكي از \n",
            "روزهاي زندگي خود بسيار غمگين بودم و زماني كه به خواب رفتم، \n",
            "مورچه اي را ديدم. سپس تصميم گرفتم طرح آن را بكشم. اين كار به نظرم \n",
            "جالب آمد و از آن روز به بعد اين نوع طراحي را ادامه دادم كه در هر \n",
            "بار نقاشي در اين مدلها تغييراتي را ايجاد مي كنم، ضمن اينكه اين \n",
            "حشره به دليل زندگي منظمي كه دارد، برايم جذاب است. \n",
            "نظم يكي از اركان آثار نقاشي طباطبايي است. عليرغم موضوعات ساده، \n",
            "تركيببندي دو بعدي و تنوع كم در رنگ آميزي سطوح، استحكام طرحها و \n",
            "نقوش بر روي پرده اثر نشان از نظمي دروني دارد. اين نظم خود را در \n",
            "آناتومي و اندام مورچگان به نوع ديگري نشان مي دهد. مشخصه اصلي \n",
            "مورچگان دست و پا و تقسيم بندي سه گانه بدن آنها است و مهمتر آنكه \n",
            "روي شش دست و پا راه مي روند. اما در نقاشيهاي طباطبايي آنها روي دو \n",
            "پا مثل انسان مي ايستند. سرهايشان بزرگترين اندام بدنشان است و چشمها \n",
            "به طور اغراق آميزي در سرجا گرفته است. هدف نقاش از اين تغييرات در \n",
            "اندام مورچگان؟ چيست باآنكه خود نقاش گفته و از نقاشيها استنباط \n",
            " مي شود، موضوع آثار طباطبايي مورچگان است اما در باطن چنين ظاهري، \n",
            "اين انسانها هستند كه در هيبتي حشره گونه در تابلوهاي نقاش نمايشگر \n",
            "گوشه هايي از زندگي خود هستند. آنها با اندام سياه خود در زمينه اي \n",
            "خاكستري بادكنكهاي رنگي به دست دارند و عروسي مي كنند. تغيير در \n",
            "اندام مورچگان باعث شده چهره و حالات سر و صورت تنها اندام بازگو \n",
            "كننده احساسات موضوع در تابلوي نقاشي نباشد بلكه تمام بدن اين \n",
            " مورچه - انسانهاحسي را پديد مي آورند كه در تابلو سايه مي اندازد. \n",
            "احساساتي نظير به دام افتادن در دام يك عنكبوت، مادري كردن، تفاهم و \n",
            "دوستي. \n",
            "نكته ديگر، نقاشي درختان به صورت اسليمي هاي ايراني در حاشيه تابلوها \n"
          ]
        }
      ],
      "source": [
        "!head -n 50 /content/Hamshahri-Corpus.txt"
      ]
    },
    {
      "cell_type": "markdown",
      "metadata": {
        "id": "BqKqoqvBBuHA"
      },
      "source": [
        "### We read the txt file by the below command and store it in the Colab env."
      ]
    },
    {
      "cell_type": "code",
      "execution_count": null,
      "metadata": {
        "id": "dQ5MuIADKX6V"
      },
      "outputs": [],
      "source": [
        "my_file = open ('/content/Hamshahri-Corpus.txt', 'r').read()"
      ]
    },
    {
      "cell_type": "code",
      "execution_count": null,
      "metadata": {
        "id": "hRBoEuRTKzEC"
      },
      "outputs": [],
      "source": [
        "# len(my_file)"
      ]
    },
    {
      "cell_type": "markdown",
      "metadata": {
        "id": "99p7vchrkaUc"
      },
      "source": []
    },
    {
      "cell_type": "markdown",
      "metadata": {
        "id": "BpN_G_gdB26n"
      },
      "source": [
        "## Preprocessing Begins"
      ]
    },
    {
      "cell_type": "markdown",
      "metadata": {
        "id": "Muxl4v_MB7o5"
      },
      "source": [
        "### We can split the txt file by .DID seperator as a first preprcessing step, it helps us clean our data recongnize the single data objects!"
      ]
    },
    {
      "cell_type": "code",
      "execution_count": null,
      "metadata": {
        "id": "-E5r2Yl3K2Ty"
      },
      "outputs": [],
      "source": [
        "splitted_text = my_file.split('.DID')"
      ]
    },
    {
      "cell_type": "markdown",
      "metadata": {
        "id": "DsYBZNppCXm-"
      },
      "source": []
    },
    {
      "cell_type": "markdown",
      "metadata": {
        "id": "dIPc2kzOCb3G"
      },
      "source": [
        "### Now we have a splitted text file"
      ]
    },
    {
      "cell_type": "code",
      "execution_count": null,
      "metadata": {
        "colab": {
          "base_uri": "https://localhost:8080/"
        },
        "id": "SXv0sC30M1pI",
        "outputId": "0008b71c-a7f3-4463-864b-db53a70b4609"
      },
      "outputs": [
        {
          "output_type": "execute_result",
          "data": {
            "text/plain": [
              "165226"
            ]
          },
          "metadata": {},
          "execution_count": 11
        }
      ],
      "source": [
        "len(splitted_text)"
      ]
    },
    {
      "cell_type": "code",
      "execution_count": null,
      "metadata": {
        "id": "OFuwCF7CM9FX"
      },
      "outputs": [],
      "source": [
        "# print(splitted_file[1])"
      ]
    },
    {
      "cell_type": "markdown",
      "metadata": {
        "id": "T_9upR1SCtGe"
      },
      "source": [
        "### We need to drop the first element of the file which is a None"
      ]
    },
    {
      "cell_type": "code",
      "execution_count": null,
      "metadata": {
        "colab": {
          "base_uri": "https://localhost:8080/",
          "height": 35
        },
        "id": "-JzQAvK_avgo",
        "outputId": "84972314-64dc-494f-eb67-c2b74dbf3d55"
      },
      "outputs": [
        {
          "output_type": "execute_result",
          "data": {
            "text/plain": [
              "''"
            ],
            "application/vnd.google.colaboratory.intrinsic+json": {
              "type": "string"
            }
          },
          "metadata": {},
          "execution_count": 12
        }
      ],
      "source": [
        "splitted_text[0]"
      ]
    },
    {
      "cell_type": "code",
      "execution_count": null,
      "metadata": {
        "id": "Z7exTaO4NFeX"
      },
      "outputs": [],
      "source": [
        "del splitted_text[0]"
      ]
    },
    {
      "cell_type": "code",
      "execution_count": null,
      "metadata": {
        "id": "6Gz-qRi8NuzR",
        "colab": {
          "base_uri": "https://localhost:8080/",
          "height": 105
        },
        "outputId": "878c01c8-e147-4388-c865-974f15b93636"
      },
      "outputs": [
        {
          "output_type": "execute_result",
          "data": {
            "text/plain": [
              "'\\t1S1\\n.Date\\t75\\\\04\\\\02\\n.Cat\\tadabh\\nجاودانگي در زندگي گروهي از طريق هنر \\nنگاهي به نمايشگاه آثار هنري احمد طباطبايي \\nموضوع آثار طباطبايي مورچگان هستند ولي در باطن چنين ظاهري، اين \\nانسانهاهستند كه در هيبتي حشره گونه در تابلوهاي نقاشي نمايشگر \\nگوشه هايي از زندگي خود هستند. \\nمورچه اي را ديده ايم كه بار سنگين خودرا به دوش مي كشد و در بين راه \\nخسته مي شود يا در نتيجه پيش آمدن يك حادثه اتفاقي بار از دستش رها \\nشده و براي گريز از خطر آن را مي گذارد و فرار مي كند. اما ساعتي بعد \\nبه همان نقطه برمي گردد و بار را دوباره به دوش كشيده نفس زنان و \\nعرق ريزان آن را به منزل او مي رساند مي داند كه اگر در ميان راه از \\nبين رفت، يك مورچه ديگر با همان استعداد غريزه عملي را كه او شروع \\nكرده به پايان مي رساند. پس او مي داند كه بعد از خودش نسل آينده اي \\nوجود دارد كه بايد از مزاياي آن استفاده نمايد. چه داستان درازي، \\nانتها و پاياني هم ميليونها ندارد سال گذشته، ميلياردها سال ديگر \\nخواهد گذشت وهمين برنامه ميليونها بار ديگر تجديد مي شود. پس بايد گفت \\nسير حيات و تكامل پايان ناپذير است. اسرار جهان پاياني ندارد. پس \\nاگر بخواهيم به يك چيز پايان ناپذير برسيم چون انتهايي در بين نيست، \\nبه جايي نمي رسيم. (از كتاب مورچگان، نوشته موريس مترلينگ )\\nمورچگان در تابلوهاي نقاشي احمد طباطبايي جايگاه ويژه اي دارند. در \\nنمايشگاهي كه از آثار اين هنرمند (اول تا 23 خرداد ) در نگارخانه برگ \\nبرپا شد 36 اثر با اين موضوع به نمايش عمومي درآمد. طباطبايي در \\nمدت 18 سالي كه به نقاشي مي پردازد همواره بر روي موضوع مورچگان كار \\nكرده است. وي درباره علت انتخاب چنين سوژه اي مي گويد: در يكي از \\nروزهاي زندگي خود بسيار غمگين بودم و زماني كه به خواب رفتم، \\nمورچه اي را ديدم. سپس تصميم گرفتم طرح آن را بكشم. اين كار به نظرم \\nجالب آمد و از آن روز به بعد اين نوع طراحي را ادامه دادم كه در هر \\nبار نقاشي در اين مدلها تغييراتي را ايجاد مي كنم، ضمن اينكه اين \\nحشره به دليل زندگي منظمي كه دارد، برايم جذاب است. \\nنظم يكي از اركان آثار نقاشي طباطبايي است. عليرغم موضوعات ساده، \\nتركيببندي دو بعدي و تنوع كم در رنگ آميزي سطوح، استحكام طرحها و \\nنقوش بر روي پرده اثر نشان از نظمي دروني دارد. اين نظم خود را در \\nآناتومي و اندام مورچگان به نوع ديگري نشان مي دهد. مشخصه اصلي \\nمورچگان دست و پا و تقسيم بندي سه گانه بدن آنها است و مهمتر آنكه \\nروي شش دست و پا راه مي روند. اما در نقاشيهاي طباطبايي آنها روي دو \\nپا مثل انسان مي ايستند. سرهايشان بزرگترين اندام بدنشان است و چشمها \\nبه طور اغراق آميزي در سرجا گرفته است. هدف نقاش از اين تغييرات در \\nاندام مورچگان؟ چيست باآنكه خود نقاش گفته و از نقاشيها استنباط \\n مي شود، موضوع آثار طباطبايي مورچگان است اما در باطن چنين ظاهري، \\nاين انسانها هستند كه در هيبتي حشره گونه در تابلوهاي نقاش نمايشگر \\nگوشه هايي از زندگي خود هستند. آنها با اندام سياه خود در زمينه اي \\nخاكستري بادكنكهاي رنگي به دست دارند و عروسي مي كنند. تغيير در \\nاندام مورچگان باعث شده چهره و حالات سر و صورت تنها اندام بازگو \\nكننده احساسات موضوع در تابلوي نقاشي نباشد بلكه تمام بدن اين \\n مورچه - انسانهاحسي را پديد مي آورند كه در تابلو سايه مي اندازد. \\nاحساساتي نظير به دام افتادن در دام يك عنكبوت، مادري كردن، تفاهم و \\nدوستي. \\nنكته ديگر، نقاشي درختان به صورت اسليمي هاي ايراني در حاشيه تابلوها \\nبا خطوط و رنگهايي زنده و شاداب است. اين نقشها در تقابل بصري با \\n مورچه - انسانهاست اما در يك هماهنگي دروني با مفهوم مورچه - انسانها \\nبه تصوير كشيده شده اند. رنگهاي شاد سبز با ميوه هاي سرخ، شكل انساني \\nمحيط را افزايش مي دهند اما اين مورچگان كه به طور گروهي در اين فضا \\nبه سر مي برند، يك اصل را مي دانند; جاودانگي در زندگي گروهي و انتقال \\nاحساسات به ديگران از طريق هنر است. همان راهي كه مترلينگ به آن \\nاشاره كرد. \\n\\n\\n'"
            ],
            "application/vnd.google.colaboratory.intrinsic+json": {
              "type": "string"
            }
          },
          "metadata": {},
          "execution_count": 14
        }
      ],
      "source": [
        "splitted_text[0]"
      ]
    },
    {
      "cell_type": "code",
      "execution_count": null,
      "metadata": {
        "id": "VbQwg9plNx3v"
      },
      "outputs": [],
      "source": [
        "# test = splitted_text[0].split('\\n')\n",
        "# passage = test[3:]\n",
        "# passage  = ' '.join(passage)"
      ]
    },
    {
      "cell_type": "markdown",
      "metadata": {
        "id": "U9RKVs_QycxL"
      },
      "source": [
        "### By splitting the file regarding to '\\\\n' we can process the file as a list"
      ]
    },
    {
      "cell_type": "markdown",
      "metadata": {
        "id": "vd1CP9uuFm10"
      },
      "source": [
        "### Then we can iterate over the list and extract the date, categroy and the text content of each data object by using a for loop and split method as follows"
      ]
    },
    {
      "cell_type": "markdown",
      "metadata": {
        "id": "4NJYp4dwGBtZ"
      },
      "source": []
    },
    {
      "cell_type": "code",
      "execution_count": null,
      "metadata": {
        "id": "ZTMp3FdlS65z"
      },
      "outputs": [],
      "source": [
        "dic = {}\n",
        "for i in range(len(splitted_text)):\n",
        "  test = splitted_text[i].split('\\n')\n",
        "  date = test[1].split('\\t')[1]\n",
        "  cat  = test[2].split('\\t')[1]\n",
        "  content = ' '.join(test[3:])\n",
        "  # content = normalizer.normalize(content)\n",
        "  dic[i] = [date, cat, content]\n"
      ]
    },
    {
      "cell_type": "code",
      "execution_count": null,
      "metadata": {
        "id": "XbCvWRuuuV84"
      },
      "outputs": [],
      "source": [
        "import pandas as pd"
      ]
    },
    {
      "cell_type": "code",
      "execution_count": null,
      "metadata": {
        "id": "zbnJP0xZZ5Rw"
      },
      "outputs": [],
      "source": [
        "df = pd.DataFrame(dic)"
      ]
    },
    {
      "cell_type": "code",
      "execution_count": null,
      "metadata": {
        "colab": {
          "base_uri": "https://localhost:8080/",
          "height": 206
        },
        "id": "Lg-J4Knsaepd",
        "outputId": "8153ca17-6252-4cbf-e48e-82c8d928eeaa"
      },
      "outputs": [
        {
          "output_type": "execute_result",
          "data": {
            "text/plain": [
              "       Date Category                                            Content\n",
              "0  75\\04\\02    adabh  جاودانگي در زندگي گروهي از طريق هنر  نگاهي به ...\n",
              "1  75\\04\\02    adabh  رويدادهاي هنري جهان  نمايشگاه هنر در خدمت ديكت...\n",
              "2  75\\04\\02    adabh  برديوار نگارخانه ها  گالري گلستان:  نمايشگاه ط...\n",
              "3  75\\04\\02    ejtem  بازي را جدي بگيريم  مطالعه اي مقدماتي پيرامون ...\n",
              "4  75\\04\\02    elmfa  تخته سياه و غباري كه سترده نمي شود...  اشاره; ..."
            ],
            "text/html": [
              "\n",
              "  <div id=\"df-ca317c14-2e76-4a5c-8be9-7c6f0b5579ae\" class=\"colab-df-container\">\n",
              "    <div>\n",
              "<style scoped>\n",
              "    .dataframe tbody tr th:only-of-type {\n",
              "        vertical-align: middle;\n",
              "    }\n",
              "\n",
              "    .dataframe tbody tr th {\n",
              "        vertical-align: top;\n",
              "    }\n",
              "\n",
              "    .dataframe thead th {\n",
              "        text-align: right;\n",
              "    }\n",
              "</style>\n",
              "<table border=\"1\" class=\"dataframe\">\n",
              "  <thead>\n",
              "    <tr style=\"text-align: right;\">\n",
              "      <th></th>\n",
              "      <th>Date</th>\n",
              "      <th>Category</th>\n",
              "      <th>Content</th>\n",
              "    </tr>\n",
              "  </thead>\n",
              "  <tbody>\n",
              "    <tr>\n",
              "      <th>0</th>\n",
              "      <td>75\\04\\02</td>\n",
              "      <td>adabh</td>\n",
              "      <td>جاودانگي در زندگي گروهي از طريق هنر  نگاهي به ...</td>\n",
              "    </tr>\n",
              "    <tr>\n",
              "      <th>1</th>\n",
              "      <td>75\\04\\02</td>\n",
              "      <td>adabh</td>\n",
              "      <td>رويدادهاي هنري جهان  نمايشگاه هنر در خدمت ديكت...</td>\n",
              "    </tr>\n",
              "    <tr>\n",
              "      <th>2</th>\n",
              "      <td>75\\04\\02</td>\n",
              "      <td>adabh</td>\n",
              "      <td>برديوار نگارخانه ها  گالري گلستان:  نمايشگاه ط...</td>\n",
              "    </tr>\n",
              "    <tr>\n",
              "      <th>3</th>\n",
              "      <td>75\\04\\02</td>\n",
              "      <td>ejtem</td>\n",
              "      <td>بازي را جدي بگيريم  مطالعه اي مقدماتي پيرامون ...</td>\n",
              "    </tr>\n",
              "    <tr>\n",
              "      <th>4</th>\n",
              "      <td>75\\04\\02</td>\n",
              "      <td>elmfa</td>\n",
              "      <td>تخته سياه و غباري كه سترده نمي شود...  اشاره; ...</td>\n",
              "    </tr>\n",
              "  </tbody>\n",
              "</table>\n",
              "</div>\n",
              "    <div class=\"colab-df-buttons\">\n",
              "\n",
              "  <div class=\"colab-df-container\">\n",
              "    <button class=\"colab-df-convert\" onclick=\"convertToInteractive('df-ca317c14-2e76-4a5c-8be9-7c6f0b5579ae')\"\n",
              "            title=\"Convert this dataframe to an interactive table.\"\n",
              "            style=\"display:none;\">\n",
              "\n",
              "  <svg xmlns=\"http://www.w3.org/2000/svg\" height=\"24px\" viewBox=\"0 -960 960 960\">\n",
              "    <path d=\"M120-120v-720h720v720H120Zm60-500h600v-160H180v160Zm220 220h160v-160H400v160Zm0 220h160v-160H400v160ZM180-400h160v-160H180v160Zm440 0h160v-160H620v160ZM180-180h160v-160H180v160Zm440 0h160v-160H620v160Z\"/>\n",
              "  </svg>\n",
              "    </button>\n",
              "\n",
              "  <style>\n",
              "    .colab-df-container {\n",
              "      display:flex;\n",
              "      gap: 12px;\n",
              "    }\n",
              "\n",
              "    .colab-df-convert {\n",
              "      background-color: #E8F0FE;\n",
              "      border: none;\n",
              "      border-radius: 50%;\n",
              "      cursor: pointer;\n",
              "      display: none;\n",
              "      fill: #1967D2;\n",
              "      height: 32px;\n",
              "      padding: 0 0 0 0;\n",
              "      width: 32px;\n",
              "    }\n",
              "\n",
              "    .colab-df-convert:hover {\n",
              "      background-color: #E2EBFA;\n",
              "      box-shadow: 0px 1px 2px rgba(60, 64, 67, 0.3), 0px 1px 3px 1px rgba(60, 64, 67, 0.15);\n",
              "      fill: #174EA6;\n",
              "    }\n",
              "\n",
              "    .colab-df-buttons div {\n",
              "      margin-bottom: 4px;\n",
              "    }\n",
              "\n",
              "    [theme=dark] .colab-df-convert {\n",
              "      background-color: #3B4455;\n",
              "      fill: #D2E3FC;\n",
              "    }\n",
              "\n",
              "    [theme=dark] .colab-df-convert:hover {\n",
              "      background-color: #434B5C;\n",
              "      box-shadow: 0px 1px 3px 1px rgba(0, 0, 0, 0.15);\n",
              "      filter: drop-shadow(0px 1px 2px rgba(0, 0, 0, 0.3));\n",
              "      fill: #FFFFFF;\n",
              "    }\n",
              "  </style>\n",
              "\n",
              "    <script>\n",
              "      const buttonEl =\n",
              "        document.querySelector('#df-ca317c14-2e76-4a5c-8be9-7c6f0b5579ae button.colab-df-convert');\n",
              "      buttonEl.style.display =\n",
              "        google.colab.kernel.accessAllowed ? 'block' : 'none';\n",
              "\n",
              "      async function convertToInteractive(key) {\n",
              "        const element = document.querySelector('#df-ca317c14-2e76-4a5c-8be9-7c6f0b5579ae');\n",
              "        const dataTable =\n",
              "          await google.colab.kernel.invokeFunction('convertToInteractive',\n",
              "                                                    [key], {});\n",
              "        if (!dataTable) return;\n",
              "\n",
              "        const docLinkHtml = 'Like what you see? Visit the ' +\n",
              "          '<a target=\"_blank\" href=https://colab.research.google.com/notebooks/data_table.ipynb>data table notebook</a>'\n",
              "          + ' to learn more about interactive tables.';\n",
              "        element.innerHTML = '';\n",
              "        dataTable['output_type'] = 'display_data';\n",
              "        await google.colab.output.renderOutput(dataTable, element);\n",
              "        const docLink = document.createElement('div');\n",
              "        docLink.innerHTML = docLinkHtml;\n",
              "        element.appendChild(docLink);\n",
              "      }\n",
              "    </script>\n",
              "  </div>\n",
              "\n",
              "\n",
              "<div id=\"df-d359c5ad-f123-471c-924d-6891a20870ed\">\n",
              "  <button class=\"colab-df-quickchart\" onclick=\"quickchart('df-d359c5ad-f123-471c-924d-6891a20870ed')\"\n",
              "            title=\"Suggest charts\"\n",
              "            style=\"display:none;\">\n",
              "\n",
              "<svg xmlns=\"http://www.w3.org/2000/svg\" height=\"24px\"viewBox=\"0 0 24 24\"\n",
              "     width=\"24px\">\n",
              "    <g>\n",
              "        <path d=\"M19 3H5c-1.1 0-2 .9-2 2v14c0 1.1.9 2 2 2h14c1.1 0 2-.9 2-2V5c0-1.1-.9-2-2-2zM9 17H7v-7h2v7zm4 0h-2V7h2v10zm4 0h-2v-4h2v4z\"/>\n",
              "    </g>\n",
              "</svg>\n",
              "  </button>\n",
              "\n",
              "<style>\n",
              "  .colab-df-quickchart {\n",
              "      --bg-color: #E8F0FE;\n",
              "      --fill-color: #1967D2;\n",
              "      --hover-bg-color: #E2EBFA;\n",
              "      --hover-fill-color: #174EA6;\n",
              "      --disabled-fill-color: #AAA;\n",
              "      --disabled-bg-color: #DDD;\n",
              "  }\n",
              "\n",
              "  [theme=dark] .colab-df-quickchart {\n",
              "      --bg-color: #3B4455;\n",
              "      --fill-color: #D2E3FC;\n",
              "      --hover-bg-color: #434B5C;\n",
              "      --hover-fill-color: #FFFFFF;\n",
              "      --disabled-bg-color: #3B4455;\n",
              "      --disabled-fill-color: #666;\n",
              "  }\n",
              "\n",
              "  .colab-df-quickchart {\n",
              "    background-color: var(--bg-color);\n",
              "    border: none;\n",
              "    border-radius: 50%;\n",
              "    cursor: pointer;\n",
              "    display: none;\n",
              "    fill: var(--fill-color);\n",
              "    height: 32px;\n",
              "    padding: 0;\n",
              "    width: 32px;\n",
              "  }\n",
              "\n",
              "  .colab-df-quickchart:hover {\n",
              "    background-color: var(--hover-bg-color);\n",
              "    box-shadow: 0 1px 2px rgba(60, 64, 67, 0.3), 0 1px 3px 1px rgba(60, 64, 67, 0.15);\n",
              "    fill: var(--button-hover-fill-color);\n",
              "  }\n",
              "\n",
              "  .colab-df-quickchart-complete:disabled,\n",
              "  .colab-df-quickchart-complete:disabled:hover {\n",
              "    background-color: var(--disabled-bg-color);\n",
              "    fill: var(--disabled-fill-color);\n",
              "    box-shadow: none;\n",
              "  }\n",
              "\n",
              "  .colab-df-spinner {\n",
              "    border: 2px solid var(--fill-color);\n",
              "    border-color: transparent;\n",
              "    border-bottom-color: var(--fill-color);\n",
              "    animation:\n",
              "      spin 1s steps(1) infinite;\n",
              "  }\n",
              "\n",
              "  @keyframes spin {\n",
              "    0% {\n",
              "      border-color: transparent;\n",
              "      border-bottom-color: var(--fill-color);\n",
              "      border-left-color: var(--fill-color);\n",
              "    }\n",
              "    20% {\n",
              "      border-color: transparent;\n",
              "      border-left-color: var(--fill-color);\n",
              "      border-top-color: var(--fill-color);\n",
              "    }\n",
              "    30% {\n",
              "      border-color: transparent;\n",
              "      border-left-color: var(--fill-color);\n",
              "      border-top-color: var(--fill-color);\n",
              "      border-right-color: var(--fill-color);\n",
              "    }\n",
              "    40% {\n",
              "      border-color: transparent;\n",
              "      border-right-color: var(--fill-color);\n",
              "      border-top-color: var(--fill-color);\n",
              "    }\n",
              "    60% {\n",
              "      border-color: transparent;\n",
              "      border-right-color: var(--fill-color);\n",
              "    }\n",
              "    80% {\n",
              "      border-color: transparent;\n",
              "      border-right-color: var(--fill-color);\n",
              "      border-bottom-color: var(--fill-color);\n",
              "    }\n",
              "    90% {\n",
              "      border-color: transparent;\n",
              "      border-bottom-color: var(--fill-color);\n",
              "    }\n",
              "  }\n",
              "</style>\n",
              "\n",
              "  <script>\n",
              "    async function quickchart(key) {\n",
              "      const quickchartButtonEl =\n",
              "        document.querySelector('#' + key + ' button');\n",
              "      quickchartButtonEl.disabled = true;  // To prevent multiple clicks.\n",
              "      quickchartButtonEl.classList.add('colab-df-spinner');\n",
              "      try {\n",
              "        const charts = await google.colab.kernel.invokeFunction(\n",
              "            'suggestCharts', [key], {});\n",
              "      } catch (error) {\n",
              "        console.error('Error during call to suggestCharts:', error);\n",
              "      }\n",
              "      quickchartButtonEl.classList.remove('colab-df-spinner');\n",
              "      quickchartButtonEl.classList.add('colab-df-quickchart-complete');\n",
              "    }\n",
              "    (() => {\n",
              "      let quickchartButtonEl =\n",
              "        document.querySelector('#df-d359c5ad-f123-471c-924d-6891a20870ed button');\n",
              "      quickchartButtonEl.style.display =\n",
              "        google.colab.kernel.accessAllowed ? 'block' : 'none';\n",
              "    })();\n",
              "  </script>\n",
              "</div>\n",
              "    </div>\n",
              "  </div>\n"
            ],
            "application/vnd.google.colaboratory.intrinsic+json": {
              "type": "dataframe",
              "variable_name": "df2"
            }
          },
          "metadata": {},
          "execution_count": 18
        }
      ],
      "source": [
        "df2 = df.transpose()\n",
        "df2.columns = ['Date', 'Category', 'Content']\n",
        "df2.head()"
      ]
    },
    {
      "cell_type": "code",
      "execution_count": null,
      "metadata": {
        "colab": {
          "base_uri": "https://localhost:8080/"
        },
        "id": "S0YsBXyob4UK",
        "outputId": "88ec98bf-80e1-4889-8d58-4e481d3616b1"
      },
      "outputs": [
        {
          "data": {
            "text/plain": [
              "(165225, 3)"
            ]
          },
          "execution_count": 16,
          "metadata": {},
          "output_type": "execute_result"
        }
      ],
      "source": [
        "df2.shape"
      ]
    },
    {
      "cell_type": "markdown",
      "metadata": {
        "id": "OHG9Alo2ck7i"
      },
      "source": [
        "### So we have 165225 data object, each of them showing one article."
      ]
    },
    {
      "cell_type": "markdown",
      "metadata": {
        "id": "kAmnjunTGSVH"
      },
      "source": [
        "## Visualization"
      ]
    },
    {
      "cell_type": "markdown",
      "metadata": {
        "id": "h7B_v305jNSB"
      },
      "source": [
        "# Pie Chart for category"
      ]
    },
    {
      "cell_type": "code",
      "execution_count": null,
      "metadata": {
        "colab": {
          "base_uri": "https://localhost:8080/"
        },
        "id": "JDEw5qrozkc_",
        "outputId": "7e7d0127-0708-42d9-b09b-186cc0b20738"
      },
      "outputs": [
        {
          "data": {
            "text/plain": [
              "Category\n",
              "siasi      17530\n",
              "eqtes      16661\n",
              "kharj      14666\n",
              "akhar      13811\n",
              "vrzsh      13011\n",
              "           ...  \n",
              "Musical        3\n",
              "igozar         3\n",
              "Cinew          3\n",
              "Polig          2\n",
              "Thought        2\n",
              "Name: count, Length: 105, dtype: int64"
            ]
          },
          "execution_count": 15,
          "metadata": {},
          "output_type": "execute_result"
        }
      ],
      "source": [
        "df2['Category'].value_counts()"
      ]
    },
    {
      "cell_type": "code",
      "execution_count": null,
      "metadata": {
        "colab": {
          "base_uri": "https://localhost:8080/",
          "height": 846
        },
        "id": "vcs2uThKgIPu",
        "outputId": "50115c18-041d-4123-a57c-3ca5ddc4adde"
      },
      "outputs": [
        {
          "data": {
            "text/plain": [
              "Text(0.5, 1.0, 'Pie Chart')"
            ]
          },
          "execution_count": 34,
          "metadata": {},
          "output_type": "execute_result"
        },
        {
          "data": {
            "image/png": "[encoded data removed]",
            "text/plain": [
              "<Figure size 1500x1000 with 1 Axes>"
            ]
          },
          "metadata": {},
          "output_type": "display_data"
        }
      ],
      "source": [
        "plt.figure(figsize= (15, 10))\n",
        "df2['Category'].value_counts().plot.pie(autopct='%1.1f%%')\n",
        "plt.title('Pie Chart')"
      ]
    },
    {
      "cell_type": "markdown",
      "metadata": {
        "id": "qj4G9jPRGexB"
      },
      "source": [
        "### The above pi chart shows the frequncy of each category\n",
        "### Categories siasi, eqtesadi, khareji and akhar are the most commone one in the data set."
      ]
    },
    {
      "cell_type": "markdown",
      "metadata": {
        "id": "HQqwB4VWy4u_"
      },
      "source": []
    },
    {
      "cell_type": "code",
      "execution_count": null,
      "metadata": {
        "colab": {
          "base_uri": "https://localhost:8080/"
        },
        "id": "GOFW1F-x10Gs",
        "outputId": "b756ad0d-08e1-447a-b0f9-3de3d9ea4e37"
      },
      "outputs": [
        {
          "data": {
            "text/plain": [
              "81\\02\\05    168\n",
              "81\\03\\21    157\n",
              "81\\05\\08    154\n",
              "81\\02\\30    151\n",
              "81\\03\\16    149\n",
              "           ... \n",
              "77\\09\\21     45\n",
              "77\\06\\17     42\n",
              "77\\11\\14     42\n",
              "80\\08\\03     42\n",
              "80\\08\\05     25\n",
              "Name: Date, Length: 1927, dtype: int64"
            ]
          },
          "execution_count": 35,
          "metadata": {},
          "output_type": "execute_result"
        }
      ],
      "source": [
        "df2['Date'].value_counts()"
      ]
    },
    {
      "cell_type": "code",
      "execution_count": null,
      "metadata": {
        "id": "2QZFFrS-lYKa"
      },
      "outputs": [],
      "source": [
        "Date = df2['Date']\n",
        "Date2 = Date.to_list()\n",
        "year_list = []\n",
        "month_list = []\n",
        "day_list = []\n",
        "\n",
        "for i in Date2:\n",
        "  j = i.split('\\\\')\n",
        "  year = j[0]\n",
        "  year_list.append(year)\n",
        "  month = j[1]\n",
        "  month_list.append(month)\n",
        "  day = j[2]\n",
        "  day_list.append(day)\n"
      ]
    },
    {
      "cell_type": "markdown",
      "metadata": {
        "id": "ltKqZGK5vtYp"
      },
      "source": [
        "#Plot of the years"
      ]
    },
    {
      "cell_type": "code",
      "execution_count": null,
      "metadata": {
        "colab": {
          "base_uri": "https://localhost:8080/",
          "height": 427
        },
        "id": "dAzSr9cRublF",
        "outputId": "be8881cc-e484-4e56-fd15-6e972b4c76b9"
      },
      "outputs": [
        {
          "data": {
            "text/plain": [
              "Text(0.5, 0, 'Year')"
            ]
          },
          "execution_count": 41,
          "metadata": {},
          "output_type": "execute_result"
        },
        {
          "data": {
            "image/png": "[encoded data removed]",
            "text/plain": [
              "<Figure size 1000x400 with 1 Axes>"
            ]
          },
          "metadata": {},
          "output_type": "display_data"
        }
      ],
      "source": [
        "plt.figure(figsize= (10, 4))\n",
        "sns.histplot(year_list)\n",
        "plt.title('Year Distribution')\n",
        "plt.xlabel('Year')"
      ]
    },
    {
      "cell_type": "markdown",
      "metadata": {
        "id": "7vCBBshKyDyW"
      },
      "source": [
        "#plot of the months"
      ]
    },
    {
      "cell_type": "code",
      "execution_count": null,
      "metadata": {
        "colab": {
          "base_uri": "https://localhost:8080/",
          "height": 427
        },
        "id": "i-avRK9LvYCg",
        "outputId": "90949fff-a5ff-401b-aa20-8116caf3539b"
      },
      "outputs": [
        {
          "data": {
            "text/plain": [
              "Text(0.5, 0, 'Month')"
            ]
          },
          "execution_count": 42,
          "metadata": {},
          "output_type": "execute_result"
        },
        {
          "data": {
            "image/png": "[encoded data removed]",
            "text/plain": [
              "<Figure size 1000x400 with 1 Axes>"
            ]
          },
          "metadata": {},
          "output_type": "display_data"
        }
      ],
      "source": [
        "plt.figure(figsize= (10, 4))\n",
        "sns.histplot(month_list)\n",
        "plt.title('Month Distribution')\n",
        "plt.xlabel('Month')"
      ]
    },
    {
      "cell_type": "markdown",
      "metadata": {
        "id": "bRiDOgJwvrnJ"
      },
      "source": []
    },
    {
      "cell_type": "code",
      "execution_count": null,
      "metadata": {
        "colab": {
          "base_uri": "https://localhost:8080/",
          "height": 427
        },
        "id": "du79sU9o25E_",
        "outputId": "1db84178-4411-4c24-80e0-df2fc8912944"
      },
      "outputs": [
        {
          "data": {
            "text/plain": [
              "Text(0.5, 0, 'Day')"
            ]
          },
          "execution_count": 43,
          "metadata": {},
          "output_type": "execute_result"
        },
        {
          "data": {
            "image/png": "[encoded data removed]",
            "text/plain": [
              "<Figure size 1000x400 with 1 Axes>"
            ]
          },
          "metadata": {},
          "output_type": "display_data"
        }
      ],
      "source": [
        "plt.figure(figsize= (10, 4))\n",
        "sns.histplot(day_list)\n",
        "plt.title('Day Distribution')\n",
        "plt.xlabel('Day')"
      ]
    },
    {
      "cell_type": "markdown",
      "metadata": {
        "id": "T1GRSxpdN-Wy"
      },
      "source": [
        "##More  Preprocessing Steps"
      ]
    },
    {
      "cell_type": "markdown",
      "metadata": {
        "id": "3muPGPRR6_o_"
      },
      "source": [
        "####hazm is a library for preprocessing  Persion texts"
      ]
    },
    {
      "cell_type": "code",
      "execution_count": null,
      "metadata": {
        "id": "Lc8nuYU0T717"
      },
      "outputs": [],
      "source": [
        "import hazm\n",
        "from hazm import *\n",
        "\n",
        "tokenizer = WordTokenizer()\n",
        "normalizer = Normalizer()\n"
      ]
    },
    {
      "cell_type": "markdown",
      "metadata": {
        "id": "smsDKloxNb4B"
      },
      "source": [
        "###Tokenization"
      ]
    },
    {
      "cell_type": "code",
      "execution_count": null,
      "metadata": {
        "id": "I_uYSzybNg2-"
      },
      "outputs": [],
      "source": [
        "def token(passage):\n",
        "  token_lis = tokenizer.tokenize(passage)\n",
        "  return token_lis\n",
        "\n",
        "df2['tokens']  = df2['Content'].apply(token)"
      ]
    },
    {
      "cell_type": "markdown",
      "metadata": {
        "id": "pDvbJGV-I_dv"
      },
      "source": [
        "##Normalization"
      ]
    },
    {
      "cell_type": "code",
      "execution_count": null,
      "metadata": {
        "id": "c2TC_EvcNgcz"
      },
      "outputs": [],
      "source": [
        "def normal(passage):\n",
        "  normal = normalizer.normalize(passage)\n",
        "  return normal\n",
        "\n",
        "df2['nomalized'] = df2['Content'].apply(normal)"
      ]
    },
    {
      "cell_type": "code",
      "execution_count": null,
      "metadata": {
        "colab": {
          "base_uri": "https://localhost:8080/",
          "height": 112
        },
        "id": "hJzAvJ0VNgZh",
        "outputId": "0ca19deb-3f1d-4668-e0f5-7b5c8281255d"
      },
      "outputs": [
        {
          "data": {
            "application/vnd.google.colaboratory.intrinsic+json": {
              "type": "dataframe",
              "variable_name": "df2"
            },
            "text/html": [
              "\n",
              "  <div id=\"df-25de2ac0-1c60-4b8a-9948-8db483396c84\" class=\"colab-df-container\">\n",
              "    <div>\n",
              "<style scoped>\n",
              "    .dataframe tbody tr th:only-of-type {\n",
              "        vertical-align: middle;\n",
              "    }\n",
              "\n",
              "    .dataframe tbody tr th {\n",
              "        vertical-align: top;\n",
              "    }\n",
              "\n",
              "    .dataframe thead th {\n",
              "        text-align: right;\n",
              "    }\n",
              "</style>\n",
              "<table border=\"1\" class=\"dataframe\">\n",
              "  <thead>\n",
              "    <tr style=\"text-align: right;\">\n",
              "      <th></th>\n",
              "      <th>Date</th>\n",
              "      <th>Category</th>\n",
              "      <th>Content</th>\n",
              "      <th>nomalized</th>\n",
              "    </tr>\n",
              "  </thead>\n",
              "  <tbody>\n",
              "    <tr>\n",
              "      <th>0</th>\n",
              "      <td>75\\04\\02</td>\n",
              "      <td>adabh</td>\n",
              "      <td>جاودانگي در زندگي گروهي از طريق هنر  نگاهي به ...</td>\n",
              "      <td>جاودانگی در زندگی گروهی از طریق هنر نگاهی به ن...</td>\n",
              "    </tr>\n",
              "    <tr>\n",
              "      <th>1</th>\n",
              "      <td>75\\04\\02</td>\n",
              "      <td>adabh</td>\n",
              "      <td>رويدادهاي هنري جهان  نمايشگاه هنر در خدمت ديكت...</td>\n",
              "      <td>رویدادهای هنری جهان نمایشگاه هنر در خدمت دیکتا...</td>\n",
              "    </tr>\n",
              "  </tbody>\n",
              "</table>\n",
              "</div>\n",
              "    <div class=\"colab-df-buttons\">\n",
              "\n",
              "  <div class=\"colab-df-container\">\n",
              "    <button class=\"colab-df-convert\" onclick=\"convertToInteractive('df-25de2ac0-1c60-4b8a-9948-8db483396c84')\"\n",
              "            title=\"Convert this dataframe to an interactive table.\"\n",
              "            style=\"display:none;\">\n",
              "\n",
              "  <svg xmlns=\"http://www.w3.org/2000/svg\" height=\"24px\" viewBox=\"0 -960 960 960\">\n",
              "    <path d=\"M120-120v-720h720v720H120Zm60-500h600v-160H180v160Zm220 220h160v-160H400v160Zm0 220h160v-160H400v160ZM180-400h160v-160H180v160Zm440 0h160v-160H620v160ZM180-180h160v-160H180v160Zm440 0h160v-160H620v160Z\"/>\n",
              "  </svg>\n",
              "    </button>\n",
              "\n",
              "  <style>\n",
              "    .colab-df-container {\n",
              "      display:flex;\n",
              "      gap: 12px;\n",
              "    }\n",
              "\n",
              "    .colab-df-convert {\n",
              "      background-color: #E8F0FE;\n",
              "      border: none;\n",
              "      border-radius: 50%;\n",
              "      cursor: pointer;\n",
              "      display: none;\n",
              "      fill: #1967D2;\n",
              "      height: 32px;\n",
              "      padding: 0 0 0 0;\n",
              "      width: 32px;\n",
              "    }\n",
              "\n",
              "    .colab-df-convert:hover {\n",
              "      background-color: #E2EBFA;\n",
              "      box-shadow: 0px 1px 2px rgba(60, 64, 67, 0.3), 0px 1px 3px 1px rgba(60, 64, 67, 0.15);\n",
              "      fill: #174EA6;\n",
              "    }\n",
              "\n",
              "    .colab-df-buttons div {\n",
              "      margin-bottom: 4px;\n",
              "    }\n",
              "\n",
              "    [theme=dark] .colab-df-convert {\n",
              "      background-color: #3B4455;\n",
              "      fill: #D2E3FC;\n",
              "    }\n",
              "\n",
              "    [theme=dark] .colab-df-convert:hover {\n",
              "      background-color: #434B5C;\n",
              "      box-shadow: 0px 1px 3px 1px rgba(0, 0, 0, 0.15);\n",
              "      filter: drop-shadow(0px 1px 2px rgba(0, 0, 0, 0.3));\n",
              "      fill: #FFFFFF;\n",
              "    }\n",
              "  </style>\n",
              "\n",
              "    <script>\n",
              "      const buttonEl =\n",
              "        document.querySelector('#df-25de2ac0-1c60-4b8a-9948-8db483396c84 button.colab-df-convert');\n",
              "      buttonEl.style.display =\n",
              "        google.colab.kernel.accessAllowed ? 'block' : 'none';\n",
              "\n",
              "      async function convertToInteractive(key) {\n",
              "        const element = document.querySelector('#df-25de2ac0-1c60-4b8a-9948-8db483396c84');\n",
              "        const dataTable =\n",
              "          await google.colab.kernel.invokeFunction('convertToInteractive',\n",
              "                                                    [key], {});\n",
              "        if (!dataTable) return;\n",
              "\n",
              "        const docLinkHtml = 'Like what you see? Visit the ' +\n",
              "          '<a target=\"_blank\" href=https://colab.research.google.com/notebooks/data_table.ipynb>data table notebook</a>'\n",
              "          + ' to learn more about interactive tables.';\n",
              "        element.innerHTML = '';\n",
              "        dataTable['output_type'] = 'display_data';\n",
              "        await google.colab.output.renderOutput(dataTable, element);\n",
              "        const docLink = document.createElement('div');\n",
              "        docLink.innerHTML = docLinkHtml;\n",
              "        element.appendChild(docLink);\n",
              "      }\n",
              "    </script>\n",
              "  </div>\n",
              "\n",
              "\n",
              "<div id=\"df-77296872-7dc2-4f19-ab66-41e7725a20ca\">\n",
              "  <button class=\"colab-df-quickchart\" onclick=\"quickchart('df-77296872-7dc2-4f19-ab66-41e7725a20ca')\"\n",
              "            title=\"Suggest charts\"\n",
              "            style=\"display:none;\">\n",
              "\n",
              "<svg xmlns=\"http://www.w3.org/2000/svg\" height=\"24px\"viewBox=\"0 0 24 24\"\n",
              "     width=\"24px\">\n",
              "    <g>\n",
              "        <path d=\"M19 3H5c-1.1 0-2 .9-2 2v14c0 1.1.9 2 2 2h14c1.1 0 2-.9 2-2V5c0-1.1-.9-2-2-2zM9 17H7v-7h2v7zm4 0h-2V7h2v10zm4 0h-2v-4h2v4z\"/>\n",
              "    </g>\n",
              "</svg>\n",
              "  </button>\n",
              "\n",
              "<style>\n",
              "  .colab-df-quickchart {\n",
              "      --bg-color: #E8F0FE;\n",
              "      --fill-color: #1967D2;\n",
              "      --hover-bg-color: #E2EBFA;\n",
              "      --hover-fill-color: #174EA6;\n",
              "      --disabled-fill-color: #AAA;\n",
              "      --disabled-bg-color: #DDD;\n",
              "  }\n",
              "\n",
              "  [theme=dark] .colab-df-quickchart {\n",
              "      --bg-color: #3B4455;\n",
              "      --fill-color: #D2E3FC;\n",
              "      --hover-bg-color: #434B5C;\n",
              "      --hover-fill-color: #FFFFFF;\n",
              "      --disabled-bg-color: #3B4455;\n",
              "      --disabled-fill-color: #666;\n",
              "  }\n",
              "\n",
              "  .colab-df-quickchart {\n",
              "    background-color: var(--bg-color);\n",
              "    border: none;\n",
              "    border-radius: 50%;\n",
              "    cursor: pointer;\n",
              "    display: none;\n",
              "    fill: var(--fill-color);\n",
              "    height: 32px;\n",
              "    padding: 0;\n",
              "    width: 32px;\n",
              "  }\n",
              "\n",
              "  .colab-df-quickchart:hover {\n",
              "    background-color: var(--hover-bg-color);\n",
              "    box-shadow: 0 1px 2px rgba(60, 64, 67, 0.3), 0 1px 3px 1px rgba(60, 64, 67, 0.15);\n",
              "    fill: var(--button-hover-fill-color);\n",
              "  }\n",
              "\n",
              "  .colab-df-quickchart-complete:disabled,\n",
              "  .colab-df-quickchart-complete:disabled:hover {\n",
              "    background-color: var(--disabled-bg-color);\n",
              "    fill: var(--disabled-fill-color);\n",
              "    box-shadow: none;\n",
              "  }\n",
              "\n",
              "  .colab-df-spinner {\n",
              "    border: 2px solid var(--fill-color);\n",
              "    border-color: transparent;\n",
              "    border-bottom-color: var(--fill-color);\n",
              "    animation:\n",
              "      spin 1s steps(1) infinite;\n",
              "  }\n",
              "\n",
              "  @keyframes spin {\n",
              "    0% {\n",
              "      border-color: transparent;\n",
              "      border-bottom-color: var(--fill-color);\n",
              "      border-left-color: var(--fill-color);\n",
              "    }\n",
              "    20% {\n",
              "      border-color: transparent;\n",
              "      border-left-color: var(--fill-color);\n",
              "      border-top-color: var(--fill-color);\n",
              "    }\n",
              "    30% {\n",
              "      border-color: transparent;\n",
              "      border-left-color: var(--fill-color);\n",
              "      border-top-color: var(--fill-color);\n",
              "      border-right-color: var(--fill-color);\n",
              "    }\n",
              "    40% {\n",
              "      border-color: transparent;\n",
              "      border-right-color: var(--fill-color);\n",
              "      border-top-color: var(--fill-color);\n",
              "    }\n",
              "    60% {\n",
              "      border-color: transparent;\n",
              "      border-right-color: var(--fill-color);\n",
              "    }\n",
              "    80% {\n",
              "      border-color: transparent;\n",
              "      border-right-color: var(--fill-color);\n",
              "      border-bottom-color: var(--fill-color);\n",
              "    }\n",
              "    90% {\n",
              "      border-color: transparent;\n",
              "      border-bottom-color: var(--fill-color);\n",
              "    }\n",
              "  }\n",
              "</style>\n",
              "\n",
              "  <script>\n",
              "    async function quickchart(key) {\n",
              "      const quickchartButtonEl =\n",
              "        document.querySelector('#' + key + ' button');\n",
              "      quickchartButtonEl.disabled = true;  // To prevent multiple clicks.\n",
              "      quickchartButtonEl.classList.add('colab-df-spinner');\n",
              "      try {\n",
              "        const charts = await google.colab.kernel.invokeFunction(\n",
              "            'suggestCharts', [key], {});\n",
              "      } catch (error) {\n",
              "        console.error('Error during call to suggestCharts:', error);\n",
              "      }\n",
              "      quickchartButtonEl.classList.remove('colab-df-spinner');\n",
              "      quickchartButtonEl.classList.add('colab-df-quickchart-complete');\n",
              "    }\n",
              "    (() => {\n",
              "      let quickchartButtonEl =\n",
              "        document.querySelector('#df-77296872-7dc2-4f19-ab66-41e7725a20ca button');\n",
              "      quickchartButtonEl.style.display =\n",
              "        google.colab.kernel.accessAllowed ? 'block' : 'none';\n",
              "    })();\n",
              "  </script>\n",
              "</div>\n",
              "    </div>\n",
              "  </div>\n"
            ],
            "text/plain": [
              "       Date Category                                            Content  \\\n",
              "0  75\\04\\02    adabh  جاودانگي در زندگي گروهي از طريق هنر  نگاهي به ...   \n",
              "1  75\\04\\02    adabh  رويدادهاي هنري جهان  نمايشگاه هنر در خدمت ديكت...   \n",
              "\n",
              "                                           nomalized  \n",
              "0  جاودانگی در زندگی گروهی از طریق هنر نگاهی به ن...  \n",
              "1  رویدادهای هنری جهان نمایشگاه هنر در خدمت دیکتا...  "
            ]
          },
          "execution_count": 22,
          "metadata": {},
          "output_type": "execute_result"
        }
      ],
      "source": [
        "df2.head(2)"
      ]
    },
    {
      "cell_type": "markdown",
      "metadata": {
        "id": "MNKRFE8WNibf"
      },
      "source": [
        "###Stop Word Removal\n"
      ]
    },
    {
      "cell_type": "code",
      "execution_count": null,
      "metadata": {
        "id": "bfIREs80OIVn"
      },
      "outputs": [],
      "source": [
        "from hazm.utils import stopwords_list\n",
        "stop_lis = stopwords_list()\n",
        "\n",
        "def stop_words(tokens):\n",
        "  return [i for i in tokens if i not in stop_lis ]\n",
        "\n",
        "# for i in df2['tokens']:\n",
        "#   if i not in stop_lis:\n",
        "#     df2['without_stop'] = i\n",
        "df2['without_stop'] = df2['Content'].apply(stop_words)"
      ]
    },
    {
      "cell_type": "code",
      "execution_count": null,
      "metadata": {
        "colab": {
          "base_uri": "https://localhost:8080/",
          "height": 178
        },
        "id": "E7eS1FICOIK6",
        "outputId": "54412fd0-f270-4da3-f58e-3daed42f801f"
      },
      "outputs": [
        {
          "data": {
            "application/vnd.google.colaboratory.intrinsic+json": {
              "type": "dataframe",
              "variable_name": "df2"
            },
            "text/html": [
              "\n",
              "  <div id=\"df-8bc108bf-a0f9-4c47-91b4-f09f9a069325\" class=\"colab-df-container\">\n",
              "    <div>\n",
              "<style scoped>\n",
              "    .dataframe tbody tr th:only-of-type {\n",
              "        vertical-align: middle;\n",
              "    }\n",
              "\n",
              "    .dataframe tbody tr th {\n",
              "        vertical-align: top;\n",
              "    }\n",
              "\n",
              "    .dataframe thead th {\n",
              "        text-align: right;\n",
              "    }\n",
              "</style>\n",
              "<table border=\"1\" class=\"dataframe\">\n",
              "  <thead>\n",
              "    <tr style=\"text-align: right;\">\n",
              "      <th></th>\n",
              "      <th>Date</th>\n",
              "      <th>Category</th>\n",
              "      <th>Content</th>\n",
              "      <th>tokens</th>\n",
              "      <th>nomalized</th>\n",
              "      <th>without_stop</th>\n",
              "    </tr>\n",
              "  </thead>\n",
              "  <tbody>\n",
              "    <tr>\n",
              "      <th>0</th>\n",
              "      <td>75\\04\\02</td>\n",
              "      <td>adabh</td>\n",
              "      <td>جاودانگي در زندگي گروهي از طريق هنر  نگاهي به ...</td>\n",
              "      <td>[جاودانگي, در, زندگي, گروهي, از, طريق, هنر, نگ...</td>\n",
              "      <td>جاودانگی در زندگی گروهی از طریق هنر نگاهی به ن...</td>\n",
              "      <td>[جاودانگي, زندگي, گروهي, طريق, هنر, نگاهي, نما...</td>\n",
              "    </tr>\n",
              "    <tr>\n",
              "      <th>1</th>\n",
              "      <td>75\\04\\02</td>\n",
              "      <td>adabh</td>\n",
              "      <td>رويدادهاي هنري جهان  نمايشگاه هنر در خدمت ديكت...</td>\n",
              "      <td>[رويدادهاي, هنري, جهان, نمايشگاه, هنر, در, خدم...</td>\n",
              "      <td>رویدادهای هنری جهان نمایشگاه هنر در خدمت دیکتا...</td>\n",
              "      <td>[رويدادهاي, هنري, جهان, نمايشگاه, هنر, خدمت, د...</td>\n",
              "    </tr>\n",
              "    <tr>\n",
              "      <th>2</th>\n",
              "      <td>75\\04\\02</td>\n",
              "      <td>adabh</td>\n",
              "      <td>برديوار نگارخانه ها  گالري گلستان:  نمايشگاه ط...</td>\n",
              "      <td>[برديوار, نگارخانه, ها, گالري, گلستان, :, نماي...</td>\n",
              "      <td>بردیوار نگارخانه‌ها گالری گلستان: نمایشگاه طرح...</td>\n",
              "      <td>[برديوار, نگارخانه, ها, گالري, گلستان, :, نماي...</td>\n",
              "    </tr>\n",
              "  </tbody>\n",
              "</table>\n",
              "</div>\n",
              "    <div class=\"colab-df-buttons\">\n",
              "\n",
              "  <div class=\"colab-df-container\">\n",
              "    <button class=\"colab-df-convert\" onclick=\"convertToInteractive('df-8bc108bf-a0f9-4c47-91b4-f09f9a069325')\"\n",
              "            title=\"Convert this dataframe to an interactive table.\"\n",
              "            style=\"display:none;\">\n",
              "\n",
              "  <svg xmlns=\"http://www.w3.org/2000/svg\" height=\"24px\" viewBox=\"0 -960 960 960\">\n",
              "    <path d=\"M120-120v-720h720v720H120Zm60-500h600v-160H180v160Zm220 220h160v-160H400v160Zm0 220h160v-160H400v160ZM180-400h160v-160H180v160Zm440 0h160v-160H620v160ZM180-180h160v-160H180v160Zm440 0h160v-160H620v160Z\"/>\n",
              "  </svg>\n",
              "    </button>\n",
              "\n",
              "  <style>\n",
              "    .colab-df-container {\n",
              "      display:flex;\n",
              "      gap: 12px;\n",
              "    }\n",
              "\n",
              "    .colab-df-convert {\n",
              "      background-color: #E8F0FE;\n",
              "      border: none;\n",
              "      border-radius: 50%;\n",
              "      cursor: pointer;\n",
              "      display: none;\n",
              "      fill: #1967D2;\n",
              "      height: 32px;\n",
              "      padding: 0 0 0 0;\n",
              "      width: 32px;\n",
              "    }\n",
              "\n",
              "    .colab-df-convert:hover {\n",
              "      background-color: #E2EBFA;\n",
              "      box-shadow: 0px 1px 2px rgba(60, 64, 67, 0.3), 0px 1px 3px 1px rgba(60, 64, 67, 0.15);\n",
              "      fill: #174EA6;\n",
              "    }\n",
              "\n",
              "    .colab-df-buttons div {\n",
              "      margin-bottom: 4px;\n",
              "    }\n",
              "\n",
              "    [theme=dark] .colab-df-convert {\n",
              "      background-color: #3B4455;\n",
              "      fill: #D2E3FC;\n",
              "    }\n",
              "\n",
              "    [theme=dark] .colab-df-convert:hover {\n",
              "      background-color: #434B5C;\n",
              "      box-shadow: 0px 1px 3px 1px rgba(0, 0, 0, 0.15);\n",
              "      filter: drop-shadow(0px 1px 2px rgba(0, 0, 0, 0.3));\n",
              "      fill: #FFFFFF;\n",
              "    }\n",
              "  </style>\n",
              "\n",
              "    <script>\n",
              "      const buttonEl =\n",
              "        document.querySelector('#df-8bc108bf-a0f9-4c47-91b4-f09f9a069325 button.colab-df-convert');\n",
              "      buttonEl.style.display =\n",
              "        google.colab.kernel.accessAllowed ? 'block' : 'none';\n",
              "\n",
              "      async function convertToInteractive(key) {\n",
              "        const element = document.querySelector('#df-8bc108bf-a0f9-4c47-91b4-f09f9a069325');\n",
              "        const dataTable =\n",
              "          await google.colab.kernel.invokeFunction('convertToInteractive',\n",
              "                                                    [key], {});\n",
              "        if (!dataTable) return;\n",
              "\n",
              "        const docLinkHtml = 'Like what you see? Visit the ' +\n",
              "          '<a target=\"_blank\" href=https://colab.research.google.com/notebooks/data_table.ipynb>data table notebook</a>'\n",
              "          + ' to learn more about interactive tables.';\n",
              "        element.innerHTML = '';\n",
              "        dataTable['output_type'] = 'display_data';\n",
              "        await google.colab.output.renderOutput(dataTable, element);\n",
              "        const docLink = document.createElement('div');\n",
              "        docLink.innerHTML = docLinkHtml;\n",
              "        element.appendChild(docLink);\n",
              "      }\n",
              "    </script>\n",
              "  </div>\n",
              "\n",
              "\n",
              "<div id=\"df-0d282e3e-073b-4c8c-b340-aeffb830c136\">\n",
              "  <button class=\"colab-df-quickchart\" onclick=\"quickchart('df-0d282e3e-073b-4c8c-b340-aeffb830c136')\"\n",
              "            title=\"Suggest charts\"\n",
              "            style=\"display:none;\">\n",
              "\n",
              "<svg xmlns=\"http://www.w3.org/2000/svg\" height=\"24px\"viewBox=\"0 0 24 24\"\n",
              "     width=\"24px\">\n",
              "    <g>\n",
              "        <path d=\"M19 3H5c-1.1 0-2 .9-2 2v14c0 1.1.9 2 2 2h14c1.1 0 2-.9 2-2V5c0-1.1-.9-2-2-2zM9 17H7v-7h2v7zm4 0h-2V7h2v10zm4 0h-2v-4h2v4z\"/>\n",
              "    </g>\n",
              "</svg>\n",
              "  </button>\n",
              "\n",
              "<style>\n",
              "  .colab-df-quickchart {\n",
              "      --bg-color: #E8F0FE;\n",
              "      --fill-color: #1967D2;\n",
              "      --hover-bg-color: #E2EBFA;\n",
              "      --hover-fill-color: #174EA6;\n",
              "      --disabled-fill-color: #AAA;\n",
              "      --disabled-bg-color: #DDD;\n",
              "  }\n",
              "\n",
              "  [theme=dark] .colab-df-quickchart {\n",
              "      --bg-color: #3B4455;\n",
              "      --fill-color: #D2E3FC;\n",
              "      --hover-bg-color: #434B5C;\n",
              "      --hover-fill-color: #FFFFFF;\n",
              "      --disabled-bg-color: #3B4455;\n",
              "      --disabled-fill-color: #666;\n",
              "  }\n",
              "\n",
              "  .colab-df-quickchart {\n",
              "    background-color: var(--bg-color);\n",
              "    border: none;\n",
              "    border-radius: 50%;\n",
              "    cursor: pointer;\n",
              "    display: none;\n",
              "    fill: var(--fill-color);\n",
              "    height: 32px;\n",
              "    padding: 0;\n",
              "    width: 32px;\n",
              "  }\n",
              "\n",
              "  .colab-df-quickchart:hover {\n",
              "    background-color: var(--hover-bg-color);\n",
              "    box-shadow: 0 1px 2px rgba(60, 64, 67, 0.3), 0 1px 3px 1px rgba(60, 64, 67, 0.15);\n",
              "    fill: var(--button-hover-fill-color);\n",
              "  }\n",
              "\n",
              "  .colab-df-quickchart-complete:disabled,\n",
              "  .colab-df-quickchart-complete:disabled:hover {\n",
              "    background-color: var(--disabled-bg-color);\n",
              "    fill: var(--disabled-fill-color);\n",
              "    box-shadow: none;\n",
              "  }\n",
              "\n",
              "  .colab-df-spinner {\n",
              "    border: 2px solid var(--fill-color);\n",
              "    border-color: transparent;\n",
              "    border-bottom-color: var(--fill-color);\n",
              "    animation:\n",
              "      spin 1s steps(1) infinite;\n",
              "  }\n",
              "\n",
              "  @keyframes spin {\n",
              "    0% {\n",
              "      border-color: transparent;\n",
              "      border-bottom-color: var(--fill-color);\n",
              "      border-left-color: var(--fill-color);\n",
              "    }\n",
              "    20% {\n",
              "      border-color: transparent;\n",
              "      border-left-color: var(--fill-color);\n",
              "      border-top-color: var(--fill-color);\n",
              "    }\n",
              "    30% {\n",
              "      border-color: transparent;\n",
              "      border-left-color: var(--fill-color);\n",
              "      border-top-color: var(--fill-color);\n",
              "      border-right-color: var(--fill-color);\n",
              "    }\n",
              "    40% {\n",
              "      border-color: transparent;\n",
              "      border-right-color: var(--fill-color);\n",
              "      border-top-color: var(--fill-color);\n",
              "    }\n",
              "    60% {\n",
              "      border-color: transparent;\n",
              "      border-right-color: var(--fill-color);\n",
              "    }\n",
              "    80% {\n",
              "      border-color: transparent;\n",
              "      border-right-color: var(--fill-color);\n",
              "      border-bottom-color: var(--fill-color);\n",
              "    }\n",
              "    90% {\n",
              "      border-color: transparent;\n",
              "      border-bottom-color: var(--fill-color);\n",
              "    }\n",
              "  }\n",
              "</style>\n",
              "\n",
              "  <script>\n",
              "    async function quickchart(key) {\n",
              "      const quickchartButtonEl =\n",
              "        document.querySelector('#' + key + ' button');\n",
              "      quickchartButtonEl.disabled = true;  // To prevent multiple clicks.\n",
              "      quickchartButtonEl.classList.add('colab-df-spinner');\n",
              "      try {\n",
              "        const charts = await google.colab.kernel.invokeFunction(\n",
              "            'suggestCharts', [key], {});\n",
              "      } catch (error) {\n",
              "        console.error('Error during call to suggestCharts:', error);\n",
              "      }\n",
              "      quickchartButtonEl.classList.remove('colab-df-spinner');\n",
              "      quickchartButtonEl.classList.add('colab-df-quickchart-complete');\n",
              "    }\n",
              "    (() => {\n",
              "      let quickchartButtonEl =\n",
              "        document.querySelector('#df-0d282e3e-073b-4c8c-b340-aeffb830c136 button');\n",
              "      quickchartButtonEl.style.display =\n",
              "        google.colab.kernel.accessAllowed ? 'block' : 'none';\n",
              "    })();\n",
              "  </script>\n",
              "</div>\n",
              "    </div>\n",
              "  </div>\n"
            ],
            "text/plain": [
              "       Date Category                                            Content  \\\n",
              "0  75\\04\\02    adabh  جاودانگي در زندگي گروهي از طريق هنر  نگاهي به ...   \n",
              "1  75\\04\\02    adabh  رويدادهاي هنري جهان  نمايشگاه هنر در خدمت ديكت...   \n",
              "2  75\\04\\02    adabh  برديوار نگارخانه ها  گالري گلستان:  نمايشگاه ط...   \n",
              "\n",
              "                                              tokens  \\\n",
              "0  [جاودانگي, در, زندگي, گروهي, از, طريق, هنر, نگ...   \n",
              "1  [رويدادهاي, هنري, جهان, نمايشگاه, هنر, در, خدم...   \n",
              "2  [برديوار, نگارخانه, ها, گالري, گلستان, :, نماي...   \n",
              "\n",
              "                                           nomalized  \\\n",
              "0  جاودانگی در زندگی گروهی از طریق هنر نگاهی به ن...   \n",
              "1  رویدادهای هنری جهان نمایشگاه هنر در خدمت دیکتا...   \n",
              "2  بردیوار نگارخانه‌ها گالری گلستان: نمایشگاه طرح...   \n",
              "\n",
              "                                        without_stop  \n",
              "0  [جاودانگي, زندگي, گروهي, طريق, هنر, نگاهي, نما...  \n",
              "1  [رويدادهاي, هنري, جهان, نمايشگاه, هنر, خدمت, د...  \n",
              "2  [برديوار, نگارخانه, ها, گالري, گلستان, :, نماي...  "
            ]
          },
          "execution_count": 20,
          "metadata": {},
          "output_type": "execute_result"
        }
      ],
      "source": [
        "df2.head(3)"
      ]
    },
    {
      "cell_type": "markdown",
      "metadata": {
        "id": "wmalrYd3Y9OI"
      },
      "source": [
        "#TF-IDF"
      ]
    },
    {
      "cell_type": "code",
      "execution_count": null,
      "metadata": {
        "id": "H6nmUVffZA6g"
      },
      "outputs": [],
      "source": [
        "from sklearn.feature_extraction.text import TfidfVectorizer\n",
        "import numpy as np\n",
        "from hazm import *\n"
      ]
    },
    {
      "cell_type": "code",
      "execution_count": null,
      "metadata": {
        "id": "_c5-z_CZbpEg"
      },
      "outputs": [],
      "source": [
        "df2['O_content'] = df2['without_stop'].apply(' '.join)"
      ]
    },
    {
      "cell_type": "markdown",
      "metadata": {
        "id": "foQPZkqdzAOK"
      },
      "source": [
        "###O_content is content witout stop words"
      ]
    },
    {
      "cell_type": "markdown",
      "metadata": {
        "id": "ts4IBTmWy9Zc"
      },
      "source": []
    },
    {
      "cell_type": "code",
      "execution_count": null,
      "metadata": {
        "colab": {
          "base_uri": "https://localhost:8080/",
          "height": 147
        },
        "id": "zUqQl6ryxkD1",
        "outputId": "7a057bf8-cc9c-4798-a0aa-7f66fdccea2d"
      },
      "outputs": [
        {
          "data": {
            "application/vnd.google.colaboratory.intrinsic+json": {
              "type": "dataframe",
              "variable_name": "df2"
            },
            "text/html": [
              "\n",
              "  <div id=\"df-c79d7d3d-ea10-457d-a16a-5c568d9b57d2\" class=\"colab-df-container\">\n",
              "    <div>\n",
              "<style scoped>\n",
              "    .dataframe tbody tr th:only-of-type {\n",
              "        vertical-align: middle;\n",
              "    }\n",
              "\n",
              "    .dataframe tbody tr th {\n",
              "        vertical-align: top;\n",
              "    }\n",
              "\n",
              "    .dataframe thead th {\n",
              "        text-align: right;\n",
              "    }\n",
              "</style>\n",
              "<table border=\"1\" class=\"dataframe\">\n",
              "  <thead>\n",
              "    <tr style=\"text-align: right;\">\n",
              "      <th></th>\n",
              "      <th>Date</th>\n",
              "      <th>Category</th>\n",
              "      <th>Content</th>\n",
              "      <th>tokens</th>\n",
              "      <th>nomalized</th>\n",
              "      <th>without_stop</th>\n",
              "      <th>O_content</th>\n",
              "    </tr>\n",
              "  </thead>\n",
              "  <tbody>\n",
              "    <tr>\n",
              "      <th>0</th>\n",
              "      <td>75\\04\\02</td>\n",
              "      <td>adabh</td>\n",
              "      <td>جاودانگي در زندگي گروهي از طريق هنر  نگاهي به ...</td>\n",
              "      <td>[جاودانگي, در, زندگي, گروهي, از, طريق, هنر, نگ...</td>\n",
              "      <td>جاودانگی در زندگی گروهی از طریق هنر نگاهی به ن...</td>\n",
              "      <td>[جاودانگي, زندگي, گروهي, طريق, هنر, نگاهي, نما...</td>\n",
              "      <td>جاودانگي زندگي گروهي طريق هنر نگاهي نمايشگاه آ...</td>\n",
              "    </tr>\n",
              "    <tr>\n",
              "      <th>1</th>\n",
              "      <td>75\\04\\02</td>\n",
              "      <td>adabh</td>\n",
              "      <td>رويدادهاي هنري جهان  نمايشگاه هنر در خدمت ديكت...</td>\n",
              "      <td>[رويدادهاي, هنري, جهان, نمايشگاه, هنر, در, خدم...</td>\n",
              "      <td>رویدادهای هنری جهان نمایشگاه هنر در خدمت دیکتا...</td>\n",
              "      <td>[رويدادهاي, هنري, جهان, نمايشگاه, هنر, خدمت, د...</td>\n",
              "      <td>رويدادهاي هنري جهان نمايشگاه هنر خدمت ديكتاتور...</td>\n",
              "    </tr>\n",
              "  </tbody>\n",
              "</table>\n",
              "</div>\n",
              "    <div class=\"colab-df-buttons\">\n",
              "\n",
              "  <div class=\"colab-df-container\">\n",
              "    <button class=\"colab-df-convert\" onclick=\"convertToInteractive('df-c79d7d3d-ea10-457d-a16a-5c568d9b57d2')\"\n",
              "            title=\"Convert this dataframe to an interactive table.\"\n",
              "            style=\"display:none;\">\n",
              "\n",
              "  <svg xmlns=\"http://www.w3.org/2000/svg\" height=\"24px\" viewBox=\"0 -960 960 960\">\n",
              "    <path d=\"M120-120v-720h720v720H120Zm60-500h600v-160H180v160Zm220 220h160v-160H400v160Zm0 220h160v-160H400v160ZM180-400h160v-160H180v160Zm440 0h160v-160H620v160ZM180-180h160v-160H180v160Zm440 0h160v-160H620v160Z\"/>\n",
              "  </svg>\n",
              "    </button>\n",
              "\n",
              "  <style>\n",
              "    .colab-df-container {\n",
              "      display:flex;\n",
              "      gap: 12px;\n",
              "    }\n",
              "\n",
              "    .colab-df-convert {\n",
              "      background-color: #E8F0FE;\n",
              "      border: none;\n",
              "      border-radius: 50%;\n",
              "      cursor: pointer;\n",
              "      display: none;\n",
              "      fill: #1967D2;\n",
              "      height: 32px;\n",
              "      padding: 0 0 0 0;\n",
              "      width: 32px;\n",
              "    }\n",
              "\n",
              "    .colab-df-convert:hover {\n",
              "      background-color: #E2EBFA;\n",
              "      box-shadow: 0px 1px 2px rgba(60, 64, 67, 0.3), 0px 1px 3px 1px rgba(60, 64, 67, 0.15);\n",
              "      fill: #174EA6;\n",
              "    }\n",
              "\n",
              "    .colab-df-buttons div {\n",
              "      margin-bottom: 4px;\n",
              "    }\n",
              "\n",
              "    [theme=dark] .colab-df-convert {\n",
              "      background-color: #3B4455;\n",
              "      fill: #D2E3FC;\n",
              "    }\n",
              "\n",
              "    [theme=dark] .colab-df-convert:hover {\n",
              "      background-color: #434B5C;\n",
              "      box-shadow: 0px 1px 3px 1px rgba(0, 0, 0, 0.15);\n",
              "      filter: drop-shadow(0px 1px 2px rgba(0, 0, 0, 0.3));\n",
              "      fill: #FFFFFF;\n",
              "    }\n",
              "  </style>\n",
              "\n",
              "    <script>\n",
              "      const buttonEl =\n",
              "        document.querySelector('#df-c79d7d3d-ea10-457d-a16a-5c568d9b57d2 button.colab-df-convert');\n",
              "      buttonEl.style.display =\n",
              "        google.colab.kernel.accessAllowed ? 'block' : 'none';\n",
              "\n",
              "      async function convertToInteractive(key) {\n",
              "        const element = document.querySelector('#df-c79d7d3d-ea10-457d-a16a-5c568d9b57d2');\n",
              "        const dataTable =\n",
              "          await google.colab.kernel.invokeFunction('convertToInteractive',\n",
              "                                                    [key], {});\n",
              "        if (!dataTable) return;\n",
              "\n",
              "        const docLinkHtml = 'Like what you see? Visit the ' +\n",
              "          '<a target=\"_blank\" href=https://colab.research.google.com/notebooks/data_table.ipynb>data table notebook</a>'\n",
              "          + ' to learn more about interactive tables.';\n",
              "        element.innerHTML = '';\n",
              "        dataTable['output_type'] = 'display_data';\n",
              "        await google.colab.output.renderOutput(dataTable, element);\n",
              "        const docLink = document.createElement('div');\n",
              "        docLink.innerHTML = docLinkHtml;\n",
              "        element.appendChild(docLink);\n",
              "      }\n",
              "    </script>\n",
              "  </div>\n",
              "\n",
              "\n",
              "<div id=\"df-629c41bb-12c8-4792-b5ba-8dc49c7b3ede\">\n",
              "  <button class=\"colab-df-quickchart\" onclick=\"quickchart('df-629c41bb-12c8-4792-b5ba-8dc49c7b3ede')\"\n",
              "            title=\"Suggest charts\"\n",
              "            style=\"display:none;\">\n",
              "\n",
              "<svg xmlns=\"http://www.w3.org/2000/svg\" height=\"24px\"viewBox=\"0 0 24 24\"\n",
              "     width=\"24px\">\n",
              "    <g>\n",
              "        <path d=\"M19 3H5c-1.1 0-2 .9-2 2v14c0 1.1.9 2 2 2h14c1.1 0 2-.9 2-2V5c0-1.1-.9-2-2-2zM9 17H7v-7h2v7zm4 0h-2V7h2v10zm4 0h-2v-4h2v4z\"/>\n",
              "    </g>\n",
              "</svg>\n",
              "  </button>\n",
              "\n",
              "<style>\n",
              "  .colab-df-quickchart {\n",
              "      --bg-color: #E8F0FE;\n",
              "      --fill-color: #1967D2;\n",
              "      --hover-bg-color: #E2EBFA;\n",
              "      --hover-fill-color: #174EA6;\n",
              "      --disabled-fill-color: #AAA;\n",
              "      --disabled-bg-color: #DDD;\n",
              "  }\n",
              "\n",
              "  [theme=dark] .colab-df-quickchart {\n",
              "      --bg-color: #3B4455;\n",
              "      --fill-color: #D2E3FC;\n",
              "      --hover-bg-color: #434B5C;\n",
              "      --hover-fill-color: #FFFFFF;\n",
              "      --disabled-bg-color: #3B4455;\n",
              "      --disabled-fill-color: #666;\n",
              "  }\n",
              "\n",
              "  .colab-df-quickchart {\n",
              "    background-color: var(--bg-color);\n",
              "    border: none;\n",
              "    border-radius: 50%;\n",
              "    cursor: pointer;\n",
              "    display: none;\n",
              "    fill: var(--fill-color);\n",
              "    height: 32px;\n",
              "    padding: 0;\n",
              "    width: 32px;\n",
              "  }\n",
              "\n",
              "  .colab-df-quickchart:hover {\n",
              "    background-color: var(--hover-bg-color);\n",
              "    box-shadow: 0 1px 2px rgba(60, 64, 67, 0.3), 0 1px 3px 1px rgba(60, 64, 67, 0.15);\n",
              "    fill: var(--button-hover-fill-color);\n",
              "  }\n",
              "\n",
              "  .colab-df-quickchart-complete:disabled,\n",
              "  .colab-df-quickchart-complete:disabled:hover {\n",
              "    background-color: var(--disabled-bg-color);\n",
              "    fill: var(--disabled-fill-color);\n",
              "    box-shadow: none;\n",
              "  }\n",
              "\n",
              "  .colab-df-spinner {\n",
              "    border: 2px solid var(--fill-color);\n",
              "    border-color: transparent;\n",
              "    border-bottom-color: var(--fill-color);\n",
              "    animation:\n",
              "      spin 1s steps(1) infinite;\n",
              "  }\n",
              "\n",
              "  @keyframes spin {\n",
              "    0% {\n",
              "      border-color: transparent;\n",
              "      border-bottom-color: var(--fill-color);\n",
              "      border-left-color: var(--fill-color);\n",
              "    }\n",
              "    20% {\n",
              "      border-color: transparent;\n",
              "      border-left-color: var(--fill-color);\n",
              "      border-top-color: var(--fill-color);\n",
              "    }\n",
              "    30% {\n",
              "      border-color: transparent;\n",
              "      border-left-color: var(--fill-color);\n",
              "      border-top-color: var(--fill-color);\n",
              "      border-right-color: var(--fill-color);\n",
              "    }\n",
              "    40% {\n",
              "      border-color: transparent;\n",
              "      border-right-color: var(--fill-color);\n",
              "      border-top-color: var(--fill-color);\n",
              "    }\n",
              "    60% {\n",
              "      border-color: transparent;\n",
              "      border-right-color: var(--fill-color);\n",
              "    }\n",
              "    80% {\n",
              "      border-color: transparent;\n",
              "      border-right-color: var(--fill-color);\n",
              "      border-bottom-color: var(--fill-color);\n",
              "    }\n",
              "    90% {\n",
              "      border-color: transparent;\n",
              "      border-bottom-color: var(--fill-color);\n",
              "    }\n",
              "  }\n",
              "</style>\n",
              "\n",
              "  <script>\n",
              "    async function quickchart(key) {\n",
              "      const quickchartButtonEl =\n",
              "        document.querySelector('#' + key + ' button');\n",
              "      quickchartButtonEl.disabled = true;  // To prevent multiple clicks.\n",
              "      quickchartButtonEl.classList.add('colab-df-spinner');\n",
              "      try {\n",
              "        const charts = await google.colab.kernel.invokeFunction(\n",
              "            'suggestCharts', [key], {});\n",
              "      } catch (error) {\n",
              "        console.error('Error during call to suggestCharts:', error);\n",
              "      }\n",
              "      quickchartButtonEl.classList.remove('colab-df-spinner');\n",
              "      quickchartButtonEl.classList.add('colab-df-quickchart-complete');\n",
              "    }\n",
              "    (() => {\n",
              "      let quickchartButtonEl =\n",
              "        document.querySelector('#df-629c41bb-12c8-4792-b5ba-8dc49c7b3ede button');\n",
              "      quickchartButtonEl.style.display =\n",
              "        google.colab.kernel.accessAllowed ? 'block' : 'none';\n",
              "    })();\n",
              "  </script>\n",
              "</div>\n",
              "    </div>\n",
              "  </div>\n"
            ],
            "text/plain": [
              "       Date Category                                            Content  \\\n",
              "0  75\\04\\02    adabh  جاودانگي در زندگي گروهي از طريق هنر  نگاهي به ...   \n",
              "1  75\\04\\02    adabh  رويدادهاي هنري جهان  نمايشگاه هنر در خدمت ديكت...   \n",
              "\n",
              "                                              tokens  \\\n",
              "0  [جاودانگي, در, زندگي, گروهي, از, طريق, هنر, نگ...   \n",
              "1  [رويدادهاي, هنري, جهان, نمايشگاه, هنر, در, خدم...   \n",
              "\n",
              "                                           nomalized  \\\n",
              "0  جاودانگی در زندگی گروهی از طریق هنر نگاهی به ن...   \n",
              "1  رویدادهای هنری جهان نمایشگاه هنر در خدمت دیکتا...   \n",
              "\n",
              "                                        without_stop  \\\n",
              "0  [جاودانگي, زندگي, گروهي, طريق, هنر, نگاهي, نما...   \n",
              "1  [رويدادهاي, هنري, جهان, نمايشگاه, هنر, خدمت, د...   \n",
              "\n",
              "                                           O_content  \n",
              "0  جاودانگي زندگي گروهي طريق هنر نگاهي نمايشگاه آ...  \n",
              "1  رويدادهاي هنري جهان نمايشگاه هنر خدمت ديكتاتور...  "
            ]
          },
          "execution_count": 22,
          "metadata": {},
          "output_type": "execute_result"
        }
      ],
      "source": [
        "df2.head(2)"
      ]
    },
    {
      "cell_type": "code",
      "execution_count": null,
      "metadata": {
        "id": "EqxSh3gdZJWz"
      },
      "outputs": [],
      "source": [
        "vectorizer = TfidfVectorizer()\n",
        "corpus = df2['nomalized']\n",
        "vectores = vectorizer.fit_transform(corpus)"
      ]
    },
    {
      "cell_type": "code",
      "source": [
        "# corpus2 = df2['O_content']\n",
        "# vectores2 = vectorizer.fit_transform(corpus2)"
      ],
      "metadata": {
        "id": "Q2ZsWy_LL9HQ"
      },
      "execution_count": null,
      "outputs": []
    },
    {
      "cell_type": "code",
      "execution_count": null,
      "metadata": {
        "id": "J21-h8ergFHV"
      },
      "outputs": [],
      "source": [
        "feature_names = vectorizer.get_feature_names_out()"
      ]
    },
    {
      "cell_type": "code",
      "execution_count": null,
      "metadata": {
        "id": "h8AtDx3CgM7-"
      },
      "outputs": [],
      "source": [
        "sorted_vectores = vectores.mean(axis= 1).A1.argsort()"
      ]
    },
    {
      "cell_type": "code",
      "execution_count": null,
      "metadata": {
        "colab": {
          "base_uri": "https://localhost:8080/"
        },
        "id": "BtbP1ntugz-J",
        "outputId": "26a24e48-9b07-4dfa-dda3-a8debf77d76c"
      },
      "outputs": [
        {
          "output_type": "stream",
          "name": "stdout",
          "text": [
            "اگرایران\n",
            "امیرملاحی\n",
            "آئورینو\n",
            "ازماندلا\n",
            "تاکمبود\n"
          ]
        }
      ],
      "source": [
        "for i in sorted_vectores[-5:]:\n",
        "    print(feature_names[i])"
      ]
    },
    {
      "cell_type": "code",
      "execution_count": null,
      "metadata": {
        "id": "n12OBz04emh_"
      },
      "outputs": [],
      "source": [
        "\n",
        "# matrix = vectores.todense()\n",
        "\n",
        "# list_dense = matrix.tolist()\n",
        "# df = pd.DataFrame(list_dense, columns= feature_names)"
      ]
    },
    {
      "cell_type": "code",
      "execution_count": null,
      "metadata": {
        "id": "ZOce6W1gbzdq"
      },
      "outputs": [],
      "source": [
        "# total_tfidf_scores = vectores.sum(axis=0)\n",
        "\n",
        "\n",
        "# total_tfidf_scores = np.array(total_tfidf_scores).reshape(-1)\n",
        "\n",
        "# sorted_indices = total_tfidf_scores.argsort()[::-1]\n",
        "\n",
        "# feature_names = np.array(feature_names)\n",
        "\n",
        "# most_important_word = feature_names[sorted_indices[0]]"
      ]
    }
  ],
  "metadata": {
    "accelerator": "TPU",
    "colab": {
      "gpuType": "V28",
      "provenance": []
    },
    "kernelspec": {
      "display_name": "Python 3",
      "name": "python3"
    },
    "language_info": {
      "name": "python"
    }
  },
  "nbformat": 4,
  "nbformat_minor": 0
}