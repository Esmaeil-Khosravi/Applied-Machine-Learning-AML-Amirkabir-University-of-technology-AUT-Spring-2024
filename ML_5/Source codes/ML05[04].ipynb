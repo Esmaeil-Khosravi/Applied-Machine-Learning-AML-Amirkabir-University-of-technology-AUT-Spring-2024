{
 "cells": [
  {
   "cell_type": "markdown",
   "id": "8bcf1975-9f26-4635-88b9-de557c49e0f0",
   "metadata": {},
   "source": [
    "# a. "
   ]
  },
  {
   "cell_type": "markdown",
   "id": "1d77a309-86ed-4176-97c2-39be2b4cc195",
   "metadata": {},
   "source": [
    "## loading datast "
   ]
  },
  {
   "cell_type": "code",
   "execution_count": 47,
   "id": "9796c852-4242-4373-ae71-af26fb23e2c6",
   "metadata": {},
   "outputs": [],
   "source": [
    "import matplotlib.pyplot as plt\n",
    "from sklearn import datasets"
   ]
  },
  {
   "cell_type": "code",
   "execution_count": 56,
   "id": "b931b99a-e245-4497-bf48-6608d9040eec",
   "metadata": {},
   "outputs": [],
   "source": [
    "digits = datasets.load_digits()"
   ]
  },
  {
   "cell_type": "markdown",
   "id": "4fcd7d29-298f-49f8-a4f5-a9379c36d601",
   "metadata": {},
   "source": [
    "## Plotting dataset"
   ]
  },
  {
   "cell_type": "code",
   "execution_count": 49,
   "id": "c4f8f4b3-5e0b-4279-8986-099d63384ec5",
   "metadata": {},
   "outputs": [
    {
     "data": {
      "text/plain": [
       "<matplotlib.image.AxesImage at 0x782796fd2210>"
      ]
     },
     "execution_count": 49,
     "metadata": {},
     "output_type": "execute_result"
    },
    {
     "data": {
      "image/png": "[encoded data removed]",
      "text/plain": [
       "<Figure size 300x300 with 1 Axes>"
      ]
     },
     "metadata": {},
     "output_type": "display_data"
    }
   ],
   "source": [
    "image = digits.images[0]\n",
    "plt.figure(figsize=(3, 3))\n",
    "plt.imshow(image, cmap=plt.cm.gray_r, interpolation=\"nearest\")"
   ]
  },
  {
   "cell_type": "code",
   "execution_count": 50,
   "id": "13569181-d71d-4ff0-88bd-c61fb3005346",
   "metadata": {},
   "outputs": [
    {
     "data": {
      "image/png": "[encoded data removed]",
      "text/plain": [
       "<Figure size 1000x400 with 10 Axes>"
      ]
     },
     "metadata": {},
     "output_type": "display_data"
    }
   ],
   "source": [
    "num_images = 10\n",
    "\n",
    "fig, axes = plt.subplots(nrows=1, ncols=10, figsize=(10, 4))\n",
    "for ax, image, label in zip(axes, digits.images[:num_images], digits.target[:num_images]):\n",
    "    ax.set_axis_off()\n",
    "    ax.imshow(image, cmap=plt.cm.gray_r, interpolation=\"nearest\")\n",
    "    ax.set_title(label)\n",
    "\n",
    "plt.show()"
   ]
  },
  {
   "cell_type": "markdown",
   "id": "a4dd0c43-1bf4-4a39-a38a-2716d7f49887",
   "metadata": {},
   "source": [
    "# b."
   ]
  },
  {
   "cell_type": "markdown",
   "id": "e07730a2-0a60-4f60-a93d-0560742286fd",
   "metadata": {},
   "source": [
    "## Preprocessing "
   ]
  },
  {
   "cell_type": "markdown",
   "id": "3a2c0071-c71e-43e2-8e7c-a316b401091a",
   "metadata": {},
   "source": [
    "## Normalization"
   ]
  },
  {
   "cell_type": "code",
   "execution_count": 78,
   "id": "ebb0cf4c-e382-45b0-92b7-758d11d44426",
   "metadata": {},
   "outputs": [],
   "source": [
    "data = digits.images\n",
    "data = data / 16.0"
   ]
  },
  {
   "cell_type": "markdown",
   "id": "1ae45b10-2052-4601-a0a5-c52593dbf270",
   "metadata": {},
   "source": [
    "## Flattening"
   ]
  },
  {
   "cell_type": "code",
   "execution_count": 79,
   "id": "7f7beadc-38e7-473f-991e-3bd9e75ff9a2",
   "metadata": {},
   "outputs": [],
   "source": [
    "n_samples = len(digits.images)\n",
    "data = data.reshape((n_samples, -1))"
   ]
  },
  {
   "cell_type": "markdown",
   "id": "1fb1c103-609e-4e62-9153-01615ce8ed2b",
   "metadata": {},
   "source": [
    "## Standardization"
   ]
  },
  {
   "cell_type": "code",
   "execution_count": 80,
   "id": "67287df3-857f-43bd-bb90-5b399ce10294",
   "metadata": {},
   "outputs": [],
   "source": [
    "from sklearn.preprocessing import StandardScaler\n",
    "\n",
    "scaler = StandardScaler()\n",
    "data = scaler.fit_transform(data)"
   ]
  },
  {
   "cell_type": "code",
   "execution_count": 81,
   "id": "a36a38e9-4145-49f2-9895-8f466870b326",
   "metadata": {},
   "outputs": [
    {
     "data": {
      "text/plain": [
       "array([[ 0.        , -0.33501649, -0.04308102, ..., -1.14664746,\n",
       "        -0.5056698 , -0.19600752],\n",
       "       [ 0.        , -0.33501649, -1.09493684, ...,  0.54856067,\n",
       "        -0.5056698 , -0.19600752],\n",
       "       [ 0.        , -0.33501649, -1.09493684, ...,  1.56568555,\n",
       "         1.6951369 , -0.19600752],\n",
       "       ...,\n",
       "       [ 0.        , -0.33501649, -0.88456568, ..., -0.12952258,\n",
       "        -0.5056698 , -0.19600752],\n",
       "       [ 0.        , -0.33501649, -0.67419451, ...,  0.8876023 ,\n",
       "        -0.5056698 , -0.19600752],\n",
       "       [ 0.        , -0.33501649,  1.00877481, ...,  0.8876023 ,\n",
       "        -0.26113572, -0.19600752]])"
      ]
     },
     "execution_count": 81,
     "metadata": {},
     "output_type": "execute_result"
    }
   ],
   "source": [
    "data"
   ]
  },
  {
   "cell_type": "markdown",
   "id": "85fc0bbf-4941-404e-9d89-1fbc121f0265",
   "metadata": {},
   "source": [
    "# c."
   ]
  },
  {
   "cell_type": "markdown",
   "id": "168d5c22-516b-493c-a8dd-5f68f4087dcc",
   "metadata": {},
   "source": [
    "## Kmeans clustering "
   ]
  },
  {
   "cell_type": "code",
   "execution_count": 83,
   "id": "dd55a448-16ce-4db8-a80b-fb89493369de",
   "metadata": {},
   "outputs": [],
   "source": [
    "from sklearn.cluster import KMeans\n",
    "num_clusters = 10\n",
    "kmeans = KMeans(n_clusters=num_clusters, n_init=10, random_state=42)\n",
    "clusters = kmeans.fit_predict(data)"
   ]
  },
  {
   "cell_type": "code",
   "execution_count": 88,
   "id": "a4ec19ae-3554-483f-b7e8-310bd871e607",
   "metadata": {},
   "outputs": [],
   "source": [
    "import numpy as np\n",
    "from sklearn.metrics import accuracy_score"
   ]
  },
  {
   "cell_type": "code",
   "execution_count": 89,
   "id": "89ee6f47-cd2a-4e04-ae56-0ea7a9086a07",
   "metadata": {},
   "outputs": [],
   "source": [
    "def map_clusters_to_labels(clusters, true_labels):\n",
    "    label_map = np.zeros_like(clusters)\n",
    "    for i in range(num_clusters):\n",
    "        mask = (clusters == i)\n",
    "        most_common = np.bincount(true_labels[mask]).argmax()\n",
    "        label_map[mask] = most_common\n",
    "    return label_map\n",
    "\n",
    "predicted_labels = map_clusters_to_labels(clusters, digits.target)\n",
    "\n"
   ]
  },
  {
   "cell_type": "markdown",
   "id": "46f663af-49d3-4c40-b1d0-8a51b943c9b4",
   "metadata": {},
   "source": [
    "# d."
   ]
  },
  {
   "cell_type": "markdown",
   "id": "8dba52c9-089c-46fe-837b-536cfc126000",
   "metadata": {},
   "source": [
    "## Hierarchical clusterin"
   ]
  },
  {
   "cell_type": "code",
   "execution_count": 92,
   "id": "fa0a43dd-67d1-4d20-9ca9-4421e85b5369",
   "metadata": {},
   "outputs": [],
   "source": [
    "from sklearn.cluster import AgglomerativeClustering\n",
    "from scipy.cluster.hierarchy import dendrogram, linkage\n",
    "\n",
    "hierarchical = AgglomerativeClustering(n_clusters=num_clusters)\n",
    "hierarchical_clusters = hierarchical.fit_predict(data)\n",
    "\n",
    "hierarchical_predicted_labels = map_clusters_to_labels(hierarchical_clusters, digits.target)\n",
    "\n"
   ]
  },
  {
   "cell_type": "markdown",
   "id": "48b85c39-aba5-4ce1-ba80-a73dacc9e50a",
   "metadata": {},
   "source": [
    "# e."
   ]
  },
  {
   "cell_type": "code",
   "execution_count": 98,
   "id": "dbc2b8d3-84e5-436f-831c-267a2bc24484",
   "metadata": {},
   "outputs": [
    {
     "name": "stdout",
     "output_type": "stream",
     "text": [
      "0.6210350584307178\n"
     ]
    }
   ],
   "source": [
    "accuracy = accuracy_score(digits.target, predicted_labels)\n",
    "print(accuracy)"
   ]
  },
  {
   "cell_type": "code",
   "execution_count": 99,
   "id": "e1f940d2-5f3f-4197-85ae-492c1962fcc0",
   "metadata": {},
   "outputs": [
    {
     "name": "stdout",
     "output_type": "stream",
     "text": [
      "0.7579298831385642\n"
     ]
    }
   ],
   "source": [
    "hierarchical_accuracy = accuracy_score(digits.target, hierarchical_predicted_labels)\n",
    "print(hierarchical_accuracy)"
   ]
  },
  {
   "cell_type": "markdown",
   "id": "683db068-de3b-4526-807e-4e6e9192d657",
   "metadata": {},
   "source": [
    "# f."
   ]
  },
  {
   "cell_type": "code",
   "execution_count": 100,
   "id": "87f4f3fb-12ae-4e5b-850d-98719c7366e0",
   "metadata": {},
   "outputs": [],
   "source": [
    "def map_clusters_to_labels(clusters, true_labels):\n",
    "    label_map = np.zeros_like(clusters)\n",
    "    for i in range(num_clusters):\n",
    "        mask = (clusters == i)\n",
    "        most_common = np.bincount(true_labels[mask]).argmax()\n",
    "        label_map[mask] = most_common\n",
    "    return label_map\n",
    "\n",
    "predicted_labels = map_clusters_to_labels(clusters, digits.target)\n"
   ]
  }
 ],
 "metadata": {
  "kernelspec": {
   "display_name": "Python 3 (ipykernel)",
   "language": "python",
   "name": "python3"
  },
  "language_info": {
   "codemirror_mode": {
    "name": "ipython",
    "version": 3
   },
   "file_extension": ".py",
   "mimetype": "text/x-python",
   "name": "python",
   "nbconvert_exporter": "python",
   "pygments_lexer": "ipython3",
   "version": "3.12.3"
  },
  "widgets": {
   "application/vnd.jupyter.widget-state+json": {
    "state": {},
    "version_major": 2,
    "version_minor": 0
   }
  }
 },
 "nbformat": 4,
 "nbformat_minor": 5
}
